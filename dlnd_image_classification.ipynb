{
 "cells": [
  {
   "cell_type": "markdown",
   "metadata": {
    "collapsed": true,
    "deletable": true,
    "editable": true
   },
   "source": [
    "# Image Classification\n",
    "In this project, you'll classify images from the [CIFAR-10 dataset](https://www.cs.toronto.edu/~kriz/cifar.html).  The dataset consists of airplanes, dogs, cats, and other objects. You'll preprocess the images, then train a convolutional neural network on all the samples. The images need to be normalized and the labels need to be one-hot encoded.  You'll get to apply what you learned and build a convolutional, max pooling, dropout, and fully connected layers.  At the end, you'll get to see your neural network's predictions on the sample images.\n",
    "## Get the Data\n",
    "Run the following cell to download the [CIFAR-10 dataset for python](https://www.cs.toronto.edu/~kriz/cifar-10-python.tar.gz)."
   ]
  },
  {
   "cell_type": "code",
   "execution_count": 5,
   "metadata": {
    "collapsed": true
   },
   "outputs": [],
   "source": [
    "### added the import separately \n",
    "###(which you guys should have done, so you can reload them without re-downloading data!)\n",
    "from urllib.request import urlretrieve\n",
    "from os.path import isfile, isdir\n",
    "from tqdm import tqdm\n",
    "import problem_unittests as tests\n",
    "import tarfile"
   ]
  },
  {
   "cell_type": "code",
   "execution_count": 1,
   "metadata": {
    "collapsed": false,
    "deletable": true,
    "editable": true
   },
   "outputs": [
    {
     "name": "stderr",
     "output_type": "stream",
     "text": [
      "CIFAR-10 Dataset: 171MB [01:15, 2.26MB/s]                               \n"
     ]
    },
    {
     "name": "stdout",
     "output_type": "stream",
     "text": [
      "All files found!\n"
     ]
    }
   ],
   "source": [
    "\"\"\"\n",
    "DON'T MODIFY ANYTHING IN THIS CELL THAT IS BELOW THIS LINE\n",
    "\"\"\"\n",
    "from urllib.request import urlretrieve\n",
    "from os.path import isfile, isdir\n",
    "from tqdm import tqdm\n",
    "import problem_unittests as tests\n",
    "import tarfile\n",
    "\n",
    "cifar10_dataset_folder_path = 'cifar-10-batches-py'\n",
    "\n",
    "class DLProgress(tqdm):\n",
    "    last_block = 0\n",
    "\n",
    "    def hook(self, block_num=1, block_size=1, total_size=None):\n",
    "        self.total = total_size\n",
    "        self.update((block_num - self.last_block) * block_size)\n",
    "        self.last_block = block_num\n",
    "\n",
    "if not isfile('cifar-10-python.tar.gz'):\n",
    "    with DLProgress(unit='B', unit_scale=True, miniters=1, desc='CIFAR-10 Dataset') as pbar:\n",
    "        urlretrieve(\n",
    "            'https://www.cs.toronto.edu/~kriz/cifar-10-python.tar.gz',\n",
    "            'cifar-10-python.tar.gz',\n",
    "            pbar.hook)\n",
    "\n",
    "if not isdir(cifar10_dataset_folder_path):\n",
    "    with tarfile.open('cifar-10-python.tar.gz') as tar:\n",
    "        tar.extractall()\n",
    "        tar.close()\n",
    "\n",
    "\n",
    "tests.test_folder_path(cifar10_dataset_folder_path)"
   ]
  },
  {
   "cell_type": "markdown",
   "metadata": {
    "deletable": true,
    "editable": true
   },
   "source": [
    "## Explore the Data\n",
    "The dataset is broken into batches to prevent your machine from running out of memory.  The CIFAR-10 dataset consists of 5 batches, named `data_batch_1`, `data_batch_2`, etc.. Each batch contains the labels and images that are one of the following:\n",
    "* airplane\n",
    "* automobile\n",
    "* bird\n",
    "* cat\n",
    "* deer\n",
    "* dog\n",
    "* frog\n",
    "* horse\n",
    "* ship\n",
    "* truck\n",
    "\n",
    "Understanding a dataset is part of making predictions on the data.  Play around with the code cell below by changing the `batch_id` and `sample_id`. The `batch_id` is the id for a batch (1-5). The `sample_id` is the id for a image and label pair in the batch.\n",
    "\n",
    "Ask yourself \"What are all possible labels?\", \"What is the range of values for the image data?\", \"Are the labels in order or random?\".  Answers to questions like these will help you preprocess the data and end up with better predictions."
   ]
  },
  {
   "cell_type": "code",
   "execution_count": 2,
   "metadata": {
    "collapsed": false,
    "deletable": true,
    "editable": true
   },
   "outputs": [
    {
     "name": "stdout",
     "output_type": "stream",
     "text": [
      "\n",
      "Stats of batch 1:\n",
      "Samples: 10000\n",
      "Label Counts: {0: 1005, 1: 974, 2: 1032, 3: 1016, 4: 999, 5: 937, 6: 1030, 7: 1001, 8: 1025, 9: 981}\n",
      "First 20 Labels: [6, 9, 9, 4, 1, 1, 2, 7, 8, 3, 4, 7, 7, 2, 9, 9, 9, 3, 2, 6]\n",
      "\n",
      "Example of Image 8:\n",
      "Image - Min Value: 8 Max Value: 252\n",
      "Image - Shape: (32, 32, 3)\n",
      "Label - Label Id: 8 Name: ship\n"
     ]
    },
    {
     "data": {
      "image/png": "[encoded data removed]",
      "text/plain": [
       "<matplotlib.figure.Figure at 0x7f7f683143c8>"
      ]
     },
     "metadata": {
      "image/png": {
       "height": 250,
       "width": 253
      }
     },
     "output_type": "display_data"
    }
   ],
   "source": [
    "%matplotlib inline\n",
    "%config InlineBackend.figure_format = 'retina'\n",
    "\n",
    "import helper\n",
    "import numpy as np\n",
    "\n",
    "# Explore the dataset\n",
    "batch_id = 1\n",
    "sample_id = 8\n",
    "helper.display_stats(cifar10_dataset_folder_path, batch_id, sample_id)"
   ]
  },
  {
   "cell_type": "markdown",
   "metadata": {
    "deletable": true,
    "editable": true
   },
   "source": [
    "## Implement Preprocess Functions\n",
    "### Normalize\n",
    "In the cell below, implement the `normalize` function to take in image data, `x`, and return it as a normalized Numpy array. The values should be in the range of 0 to 1, inclusive.  The return object should be the same shape as `x`."
   ]
  },
  {
   "cell_type": "code",
   "execution_count": 3,
   "metadata": {
    "collapsed": false,
    "deletable": true,
    "editable": true
   },
   "outputs": [
    {
     "name": "stdout",
     "output_type": "stream",
     "text": [
      "Tests Passed\n"
     ]
    }
   ],
   "source": [
    "def normalize(x):\n",
    "    \"\"\"\n",
    "    Normalize a list of sample image data in the range of 0 to 1\n",
    "    : x: List of image data.  The image shape is (32, 32, 3)\n",
    "    : return: Numpy array of normalize data\n",
    "    \"\"\"\n",
    "    # TODO: Implement Function\n",
    "    #print(x)\n",
    "    return x/255\n",
    "\n",
    "\n",
    "\"\"\"\n",
    "DON'T MODIFY ANYTHING IN THIS CELL THAT IS BELOW THIS LINE\n",
    "\"\"\"\n",
    "tests.test_normalize(normalize)"
   ]
  },
  {
   "cell_type": "markdown",
   "metadata": {
    "deletable": true,
    "editable": true
   },
   "source": [
    "### One-hot encode\n",
    "Just like the previous code cell, you'll be implementing a function for preprocessing.  This time, you'll implement the `one_hot_encode` function. The input, `x`, are a list of labels.  Implement the function to return the list of labels as One-Hot encoded Numpy array.  The possible values for labels are 0 to 9. The one-hot encoding function should return the same encoding for each value between each call to `one_hot_encode`.  Make sure to save the map of encodings outside the function.\n",
    "\n",
    "Hint: Don't reinvent the wheel."
   ]
  },
  {
   "cell_type": "code",
   "execution_count": 4,
   "metadata": {
    "collapsed": false,
    "deletable": true,
    "editable": true
   },
   "outputs": [
    {
     "name": "stdout",
     "output_type": "stream",
     "text": [
      "[[0 1 0 0 0 0 0 0 0 0]\n",
      " [0 0 0 1 0 0 0 0 0 0]]\n",
      "LabelBinarizer(neg_label=0, pos_label=1, sparse_output=False)\n",
      "[[0 1 0 0 0 0 0 0 0 0]\n",
      " [0 0 0 1 0 0 0 0 0 0]]\n",
      "Tests Passed\n"
     ]
    }
   ],
   "source": [
    "from sklearn import preprocessing\n",
    "import numpy as np\n",
    "\n",
    "lb = None\n",
    "\n",
    "def one_hot_encode(x):\n",
    "    \"\"\"\n",
    "    One hot encode a list of sample labels. Return a one-hot encoded vector for each label.\n",
    "    : x: List of sample Labels\n",
    "    : return: Numpy array of one-hot encoded labels\n",
    "    \"\"\"\n",
    "    # TODO: Implement Function\n",
    "    #print(x)\n",
    "    global lb\n",
    "    labels = np.array([0,1,2,3,4,5,6,7,8,9])\n",
    "\n",
    "    # Create the encoder\n",
    "    lb = preprocessing.LabelBinarizer()\n",
    "\n",
    "    # Here the encoder finds the classes and assigns one-hot vectors \n",
    "    lb.fit(labels)\n",
    "\n",
    "    # And finally, transform the labels into one-hot encoded vectors\n",
    "    return lb.transform(x)\n",
    "\n",
    "# do some tests\n",
    "test_vec = [1,3]\n",
    "ohe = one_hot_encode(test_vec)\n",
    "print(ohe)\n",
    "print(lb)\n",
    "print(lb.transform(test_vec))\n",
    "\n",
    "\"\"\"\n",
    "DON'T MODIFY ANYTHING IN THIS CELL THAT IS BELOW THIS LINE\n",
    "\"\"\"\n",
    "tests.test_one_hot_encode(one_hot_encode)"
   ]
  },
  {
   "cell_type": "markdown",
   "metadata": {
    "deletable": true,
    "editable": true
   },
   "source": [
    "### Randomize Data\n",
    "As you saw from exploring the data above, the order of the samples are randomized.  It doesn't hurt to randomize it again, but you don't need to for this dataset."
   ]
  },
  {
   "cell_type": "markdown",
   "metadata": {
    "deletable": true,
    "editable": true
   },
   "source": [
    "## Preprocess all the data and save it\n",
    "Running the code cell below will preprocess all the CIFAR-10 data and save it to file. The code below also uses 10% of the training data for validation."
   ]
  },
  {
   "cell_type": "code",
   "execution_count": 5,
   "metadata": {
    "collapsed": false,
    "deletable": true,
    "editable": true
   },
   "outputs": [],
   "source": [
    "\"\"\"\n",
    "DON'T MODIFY ANYTHING IN THIS CELL\n",
    "\"\"\"\n",
    "# Preprocess Training, Validation, and Testing Data\n",
    "helper.preprocess_and_save_data(cifar10_dataset_folder_path, normalize, one_hot_encode)"
   ]
  },
  {
   "cell_type": "markdown",
   "metadata": {
    "deletable": true,
    "editable": true
   },
   "source": [
    "# Check Point\n",
    "This is your first checkpoint.  If you ever decide to come back to this notebook or have to restart the notebook, you can start from here.  The preprocessed data has been saved to disk."
   ]
  },
  {
   "cell_type": "code",
   "execution_count": 18,
   "metadata": {
    "collapsed": true,
    "deletable": true,
    "editable": true
   },
   "outputs": [],
   "source": [
    "\"\"\"\n",
    "DON'T MODIFY ANYTHING IN THIS CELL\n",
    "\"\"\"\n",
    "import pickle\n",
    "import problem_unittests as tests\n",
    "import helper\n",
    "\n",
    "# Load the Preprocessed Validation data\n",
    "valid_features, valid_labels = pickle.load(open('preprocess_validation.p', mode='rb'))"
   ]
  },
  {
   "cell_type": "code",
   "execution_count": 19,
   "metadata": {
    "collapsed": false,
    "deletable": true,
    "editable": true
   },
   "outputs": [
    {
     "name": "stdout",
     "output_type": "stream",
     "text": [
      "(5000, 32, 32, 3)\n",
      "(5000, 10)\n",
      "[[[ 0.54901961  0.49019608  0.45098039]\n",
      "  [ 0.57254902  0.50980392  0.47843137]\n",
      "  [ 0.56078431  0.49803922  0.47843137]\n",
      "  ..., \n",
      "  [ 0.66666667  0.56862745  0.51372549]\n",
      "  [ 0.69019608  0.58823529  0.5254902 ]\n",
      "  [ 0.66666667  0.57647059  0.52156863]]\n",
      "\n",
      " [[ 0.4745098   0.42352941  0.50588235]\n",
      "  [ 0.50980392  0.4627451   0.54509804]\n",
      "  [ 0.5254902   0.4745098   0.56078431]\n",
      "  ..., \n",
      "  [ 0.63921569  0.55294118  0.61568627]\n",
      "  [ 0.66666667  0.57254902  0.63137255]\n",
      "  [ 0.66666667  0.58039216  0.63137255]]\n",
      "\n",
      " [[ 0.59607843  0.54509804  0.68235294]\n",
      "  [ 0.61568627  0.56862745  0.70196078]\n",
      "  [ 0.60784314  0.56078431  0.68627451]\n",
      "  ..., \n",
      "  [ 0.69411765  0.60392157  0.75686275]\n",
      "  [ 0.70980392  0.61176471  0.76078431]\n",
      "  [ 0.71764706  0.62745098  0.76078431]]\n",
      "\n",
      " ..., \n",
      " [[ 0.49019608  0.43137255  0.4       ]\n",
      "  [ 0.50588235  0.43921569  0.40392157]\n",
      "  [ 0.29803922  0.2627451   0.18431373]\n",
      "  ..., \n",
      "  [ 0.65882353  0.5372549   0.47058824]\n",
      "  [ 0.61960784  0.49411765  0.40392157]\n",
      "  [ 0.57254902  0.45490196  0.34117647]]\n",
      "\n",
      " [[ 0.33333333  0.30196078  0.2745098 ]\n",
      "  [ 0.36862745  0.31764706  0.27843137]\n",
      "  [ 0.29019608  0.25490196  0.17647059]\n",
      "  ..., \n",
      "  [ 0.63529412  0.51764706  0.41568627]\n",
      "  [ 0.65098039  0.5254902   0.39215686]\n",
      "  [ 0.61960784  0.50196078  0.36078431]]\n",
      "\n",
      " [[ 0.49019608  0.43921569  0.43529412]\n",
      "  [ 0.50980392  0.44313725  0.43529412]\n",
      "  [ 0.41176471  0.35686275  0.29411765]\n",
      "  ..., \n",
      "  [ 0.51764706  0.41568627  0.30588235]\n",
      "  [ 0.50980392  0.39607843  0.25098039]\n",
      "  [ 0.55686275  0.45098039  0.30588235]]]\n",
      "[0 0 0 0 1 0 0 0 0 0]\n"
     ]
    }
   ],
   "source": [
    "# check data\n",
    "print(valid_features.shape)\n",
    "print(valid_labels.shape)\n",
    "print(valid_features[0])\n",
    "print(valid_labels[0])"
   ]
  },
  {
   "cell_type": "markdown",
   "metadata": {
    "deletable": true,
    "editable": true
   },
   "source": [
    "## Build the network\n",
    "For the neural network, you'll build each layer into a function.  Most of the code you've seen has been outside of functions. To test your code more thoroughly, we require that you put each layer in a function.  This allows us to give you better feedback and test for simple mistakes using our unittests before you submit your project.\n",
    "\n",
    ">**Note:** If you're finding it hard to dedicate enough time for this course each week, we've provided a small shortcut to this part of the project. In the next couple of problems, you'll have the option to use classes from the [TensorFlow Layers](https://www.tensorflow.org/api_docs/python/tf/layers) or [TensorFlow Layers (contrib)](https://www.tensorflow.org/api_guides/python/contrib.layers) packages to build each layer, except the layers you build in the \"Convolutional and Max Pooling Layer\" section.  TF Layers is similar to Keras's and TFLearn's abstraction to layers, so it's easy to pickup.\n",
    "\n",
    ">However, if you would like to get the most out of this course, try to solve all the problems _without_ using anything from the TF Layers packages. You **can** still use classes from other packages that happen to have the same name as ones you find in TF Layers! For example, instead of using the TF Layers version of the `conv2d` class, [tf.layers.conv2d](https://www.tensorflow.org/api_docs/python/tf/layers/conv2d), you would want to use the TF Neural Network version of `conv2d`, [tf.nn.conv2d](https://www.tensorflow.org/api_docs/python/tf/nn/conv2d). \n",
    "\n",
    "Let's begin!\n",
    "\n",
    "### Input\n",
    "The neural network needs to read the image data, one-hot encoded labels, and dropout keep probability. Implement the following functions\n",
    "* Implement `neural_net_image_input`\n",
    " * Return a [TF Placeholder](https://www.tensorflow.org/api_docs/python/tf/placeholder)\n",
    " * Set the shape using `image_shape` with batch size set to `None`.\n",
    " * Name the TensorFlow placeholder \"x\" using the TensorFlow `name` parameter in the [TF Placeholder](https://www.tensorflow.org/api_docs/python/tf/placeholder).\n",
    "* Implement `neural_net_label_input`\n",
    " * Return a [TF Placeholder](https://www.tensorflow.org/api_docs/python/tf/placeholder)\n",
    " * Set the shape using `n_classes` with batch size set to `None`.\n",
    " * Name the TensorFlow placeholder \"y\" using the TensorFlow `name` parameter in the [TF Placeholder](https://www.tensorflow.org/api_docs/python/tf/placeholder).\n",
    "* Implement `neural_net_keep_prob_input`\n",
    " * Return a [TF Placeholder](https://www.tensorflow.org/api_docs/python/tf/placeholder) for dropout keep probability.\n",
    " * Name the TensorFlow placeholder \"keep_prob\" using the TensorFlow `name` parameter in the [TF Placeholder](https://www.tensorflow.org/api_docs/python/tf/placeholder).\n",
    "\n",
    "These names will be used at the end of the project to load your saved model.\n",
    "\n",
    "Note: `None` for shapes in TensorFlow allow for a dynamic size."
   ]
  },
  {
   "cell_type": "code",
   "execution_count": 20,
   "metadata": {
    "collapsed": false,
    "deletable": true,
    "editable": true
   },
   "outputs": [
    {
     "name": "stdout",
     "output_type": "stream",
     "text": [
      "Image Input Tests Passed.\n",
      "Label Input Tests Passed.\n",
      "Keep Prob Tests Passed.\n"
     ]
    }
   ],
   "source": [
    "import tensorflow as tf\n",
    "\n",
    "def neural_net_image_input(image_shape):\n",
    "    \"\"\"\n",
    "    Return a Tensor for a bach of image input\n",
    "    : image_shape: Shape of the images\n",
    "    : return: Tensor for image input.\n",
    "    \"\"\"\n",
    "    # TODO: Implement Function\n",
    "    #print(image_shape)\n",
    "    li = [s for s in image_shape]\n",
    "    li.insert(0,None)\n",
    "    #print(li)\n",
    "    return tf.placeholder(tf.float32, shape=li, name ='x')\n",
    "\n",
    "\n",
    "def neural_net_label_input(n_classes):\n",
    "    \"\"\"\n",
    "    Return a Tensor for a batch of label input\n",
    "    : n_classes: Number of classes\n",
    "    : return: Tensor for label input.\n",
    "    \"\"\"\n",
    "    # TODO: Implement Function\n",
    "    li = [None,n_classes]\n",
    "    return tf.placeholder(tf.float32, shape=li, name ='y')\n",
    "\n",
    "\n",
    "def neural_net_keep_prob_input():\n",
    "    \"\"\"\n",
    "    Return a Tensor for keep probability\n",
    "    : return: Tensor for keep probability.\n",
    "    \"\"\"\n",
    "    # TODO: Implement Function\n",
    "    return tf.placeholder(tf.float32, name ='keep_prob')\n",
    "\n",
    "\n",
    "\"\"\"\n",
    "DON'T MODIFY ANYTHING IN THIS CELL THAT IS BELOW THIS LINE\n",
    "\"\"\"\n",
    "tf.reset_default_graph()\n",
    "tests.test_nn_image_inputs(neural_net_image_input)\n",
    "tests.test_nn_label_inputs(neural_net_label_input)\n",
    "tests.test_nn_keep_prob_inputs(neural_net_keep_prob_input)"
   ]
  },
  {
   "cell_type": "markdown",
   "metadata": {
    "deletable": true,
    "editable": true
   },
   "source": [
    "### Convolution and Max Pooling Layer\n",
    "Convolution layers have a lot of success with images. For this code cell, you should implement the function `conv2d_maxpool` to apply convolution then max pooling:\n",
    "* Create the weight and bias using `conv_ksize`, `conv_num_outputs` and the shape of `x_tensor`.\n",
    "* Apply a convolution to `x_tensor` using weight and `conv_strides`.\n",
    " * We recommend you use same padding, but you're welcome to use any padding.\n",
    "* Add bias\n",
    "* Add a nonlinear activation to the convolution.\n",
    "* Apply Max Pooling using `pool_ksize` and `pool_strides`.\n",
    " * We recommend you use same padding, but you're welcome to use any padding.\n",
    "\n",
    "**Note:** You **can't** use [TensorFlow Layers](https://www.tensorflow.org/api_docs/python/tf/layers) or [TensorFlow Layers (contrib)](https://www.tensorflow.org/api_guides/python/contrib.layers) for **this** layer, but you can still use TensorFlow's [Neural Network](https://www.tensorflow.org/api_docs/python/tf/nn) package. You may still use the shortcut option for all the **other** layers."
   ]
  },
  {
   "cell_type": "code",
   "execution_count": 21,
   "metadata": {
    "collapsed": false,
    "deletable": true,
    "editable": true
   },
   "outputs": [
    {
     "name": "stdout",
     "output_type": "stream",
     "text": [
      "after conv <bound method Tensor.get_shape of <tf.Tensor 'Relu:0' shape=(?, 8, 8, 10) dtype=float32>>\n",
      "after max_pool <bound method Tensor.get_shape of <tf.Tensor 'MaxPool:0' shape=(?, 4, 4, 10) dtype=float32>>\n",
      "Tests Passed\n"
     ]
    }
   ],
   "source": [
    "def conv2d_maxpool(x_tensor, conv_num_outputs, conv_ksize, conv_strides, pool_ksize, pool_strides):\n",
    "    \"\"\"\n",
    "    Apply convolution then max pooling to x_tensor\n",
    "    :param x_tensor: TensorFlow Tensor\n",
    "    :param conv_num_outputs: Number of outputs for the convolutional layer\n",
    "    :param conv_ksize: kernal size 2-D Tuple for the convolutional layer\n",
    "    :param conv_strides: Stride 2-D Tuple for convolution\n",
    "    :param pool_ksize: kernal size 2-D Tuple for pool\n",
    "    :param pool_strides: Stride 2-D Tuple for pool\n",
    "    : return: A tensor that represents convolution and max pooling of x_tensor\n",
    "    \"\"\"\n",
    "    # TODO: Implement Function\n",
    "    #print(x_tensor.get_shape())\n",
    "    #print(conv_num_outputs)\n",
    "    #print(conv_ksize)\n",
    "    #print(conv_strides)\n",
    "    #print(pool_ksize)\n",
    "    #print(pool_strides)\n",
    "    # Weight and bias\n",
    "    depth = x_tensor.get_shape().as_list()[3]\n",
    "    # add conv_num_outputs filters/kernels of size x/y conv_ksize, z depth\n",
    "    list_shape = [conv_ksize[0], conv_ksize[1], depth, conv_num_outputs]\n",
    "    weight = tf.Variable( tf.truncated_normal(list_shape, stddev=0.01) )\n",
    "    bias = tf.Variable( tf.zeros(conv_num_outputs) )\n",
    "    \n",
    "    # Add convolution\n",
    "    conv_layer = tf.nn.conv2d(x_tensor, weight, strides=[1,conv_strides[0],conv_strides[1], 1], padding='SAME')\n",
    "    # Add bias\n",
    "    conv_layer = tf.nn.bias_add(conv_layer, bias)\n",
    "    # Apply activation function\n",
    "    conv_layer = tf.nn.relu(conv_layer)\n",
    "    print('after conv {}'.format(conv_layer.get_shape))\n",
    "    \n",
    "\n",
    "    # Apply Max Pooling\n",
    "    conv_layer = tf.nn.max_pool(\n",
    "        conv_layer,\n",
    "        ksize=[1, pool_ksize[0], pool_ksize[1], 1],\n",
    "        strides=[1, pool_strides[0], pool_strides[1], 1],\n",
    "        padding='SAME')\n",
    "    print('after max_pool {}'.format(conv_layer.get_shape))\n",
    "    \n",
    "    return conv_layer \n",
    "\n",
    "\n",
    "\"\"\"\n",
    "DON'T MODIFY ANYTHING IN THIS CELL THAT IS BELOW THIS LINE\n",
    "\"\"\"\n",
    "tests.test_con_pool(conv2d_maxpool)"
   ]
  },
  {
   "cell_type": "markdown",
   "metadata": {
    "deletable": true,
    "editable": true
   },
   "source": [
    "### Flatten Layer\n",
    "Implement the `flatten` function to change the dimension of `x_tensor` from a 4-D tensor to a 2-D tensor.  The output should be the shape (*Batch Size*, *Flattened Image Size*). Shortcut option: you can use classes from the [TensorFlow Layers](https://www.tensorflow.org/api_docs/python/tf/layers) or [TensorFlow Layers (contrib)](https://www.tensorflow.org/api_guides/python/contrib.layers) packages for this layer. For more of a challenge, only use other TensorFlow packages."
   ]
  },
  {
   "cell_type": "code",
   "execution_count": 22,
   "metadata": {
    "collapsed": false,
    "deletable": true,
    "editable": true
   },
   "outputs": [
    {
     "name": "stdout",
     "output_type": "stream",
     "text": [
      "after flatten <bound method Tensor.get_shape of <tf.Tensor 'Flatten/Reshape:0' shape=(?, 1800) dtype=float32>>\n",
      "Tests Passed\n"
     ]
    }
   ],
   "source": [
    "def flatten(x_tensor):\n",
    "    \"\"\"\n",
    "    Flatten x_tensor to (Batch Size, Flattened Image Size)\n",
    "    : x_tensor: A tensor of size (Batch Size, ...), where ... are the image dimensions.\n",
    "    : return: A tensor of size (Batch Size, Flattened Image Size).\n",
    "    \"\"\"\n",
    "    # TODO: Implement Function\n",
    "    output = tf.contrib.layers.flatten(x_tensor)\n",
    "    print('after flatten {}'.format(output.get_shape))\n",
    "    return output\n",
    "\n",
    "\n",
    "\"\"\"\n",
    "DON'T MODIFY ANYTHING IN THIS CELL THAT IS BELOW THIS LINE\n",
    "\"\"\"\n",
    "tests.test_flatten(flatten)"
   ]
  },
  {
   "cell_type": "markdown",
   "metadata": {
    "deletable": true,
    "editable": true
   },
   "source": [
    "### Fully-Connected Layer\n",
    "Implement the `fully_conn` function to apply a fully connected layer to `x_tensor` with the shape (*Batch Size*, *num_outputs*). Shortcut option: you can use classes from the [TensorFlow Layers](https://www.tensorflow.org/api_docs/python/tf/layers) or [TensorFlow Layers (contrib)](https://www.tensorflow.org/api_guides/python/contrib.layers) packages for this layer. For more of a challenge, only use other TensorFlow packages."
   ]
  },
  {
   "cell_type": "code",
   "execution_count": 23,
   "metadata": {
    "collapsed": false,
    "deletable": true,
    "editable": true
   },
   "outputs": [
    {
     "name": "stdout",
     "output_type": "stream",
     "text": [
      "after fully_conn <bound method Tensor.get_shape of <tf.Tensor 'Relu_1:0' shape=(?, 40) dtype=float32>>\n",
      "Tests Passed\n"
     ]
    }
   ],
   "source": [
    "import math\n",
    "def fully_conn(x_tensor, num_outputs):\n",
    "    \"\"\"\n",
    "    Apply a fully connected layer to x_tensor using weight and bias\n",
    "    : x_tensor: A 2-D tensor where the first dimension is batch size.\n",
    "    : num_outputs: The number of output that the new tensor should be.\n",
    "    : return: A 2-D tensor where the second dimension is num_outputs.\n",
    "    \"\"\"\n",
    "    # TODO: Implement Function\n",
    "    size = x_tensor.get_shape().as_list()[1]\n",
    "    # lots of discussions on setting stddev\n",
    "    # see http://stats.stackexchange.com/questions/47590/what-are-good-initial-weights-in-a-neural-network\n",
    "    # I used inverse of the square root of the fan-in\n",
    "    weight = tf.Variable( tf.truncated_normal([size, num_outputs], stddev=1/math.sqrt(num_outputs)) )\n",
    "    bias = tf.Variable( tf.zeros([num_outputs]) )\n",
    "    \n",
    "    # To Learn: why the -1?\n",
    "    # tf implies shape for -1. See https://www.tensorflow.org/api_docs/python/tf/reshape\n",
    "    fc = tf.reshape( x_tensor, [-1, weight.get_shape().as_list()[0]] )\n",
    "    fc = tf.add(tf.matmul(fc, weight), bias)\n",
    "    fc = tf.nn.relu(fc)\n",
    "    print('after fully_conn {}'.format(fc.get_shape))\n",
    "    return fc\n",
    "\n",
    "\n",
    "\"\"\"\n",
    "DON'T MODIFY ANYTHING IN THIS CELL THAT IS BELOW THIS LINE\n",
    "\"\"\"\n",
    "tests.test_fully_conn(fully_conn)"
   ]
  },
  {
   "cell_type": "markdown",
   "metadata": {
    "deletable": true,
    "editable": true
   },
   "source": [
    "### Output Layer\n",
    "Implement the `output` function to apply a fully connected layer to `x_tensor` with the shape (*Batch Size*, *num_outputs*). Shortcut option: you can use classes from the [TensorFlow Layers](https://www.tensorflow.org/api_docs/python/tf/layers) or [TensorFlow Layers (contrib)](https://www.tensorflow.org/api_guides/python/contrib.layers) packages for this layer. For more of a challenge, only use other TensorFlow packages.\n",
    "\n",
    "**Note:** Activation, softmax, or cross entropy should **not** be applied to this."
   ]
  },
  {
   "cell_type": "code",
   "execution_count": 24,
   "metadata": {
    "collapsed": false,
    "deletable": true,
    "editable": true
   },
   "outputs": [
    {
     "name": "stdout",
     "output_type": "stream",
     "text": [
      "after outout <bound method Tensor.get_shape of <tf.Tensor 'Add_1:0' shape=(?, 40) dtype=float32>>\n",
      "Tests Passed\n"
     ]
    }
   ],
   "source": [
    "def output(x_tensor, num_outputs):\n",
    "    \"\"\"\n",
    "    Apply a output layer to x_tensor using weight and bias\n",
    "    : x_tensor: A 2-D tensor where the first dimension is batch size.\n",
    "    : num_outputs: The number of output that the new tensor should be.\n",
    "    : return: A 2-D tensor where the second dimension is num_outputs.\n",
    "    \"\"\"\n",
    "    # TODO: Implement Function\n",
    "    #print(num_outputs)\n",
    "    size = x_tensor.get_shape().as_list()[1]\n",
    "    weight = tf.Variable( tf.truncated_normal([size, num_outputs], stddev=0.01) )\n",
    "    bias = tf.Variable( tf.truncated_normal([num_outputs]) )\n",
    "    out = tf.add(tf.matmul(x_tensor, weight), bias)\n",
    "    print('after outout {}'.format(out.get_shape))\n",
    "    return out\n",
    "\n",
    "\n",
    "\"\"\"\n",
    "DON'T MODIFY ANYTHING IN THIS CELL THAT IS BELOW THIS LINE\n",
    "\"\"\"\n",
    "tests.test_output(output)"
   ]
  },
  {
   "cell_type": "markdown",
   "metadata": {
    "deletable": true,
    "editable": true
   },
   "source": [
    "### Create Convolutional Model\n",
    "Implement the function `conv_net` to create a convolutional neural network model. The function takes in a batch of images, `x`, and outputs logits.  Use the layers you created above to create this model:\n",
    "\n",
    "* Apply 1, 2, or 3 Convolution and Max Pool layers\n",
    "* Apply a Flatten Layer\n",
    "* Apply 1, 2, or 3 Fully Connected Layers\n",
    "* Apply an Output Layer\n",
    "* Return the output\n",
    "* Apply [TensorFlow's Dropout](https://www.tensorflow.org/api_docs/python/tf/nn/dropout) to one or more layers in the model using `keep_prob`. "
   ]
  },
  {
   "cell_type": "code",
   "execution_count": 25,
   "metadata": {
    "collapsed": false,
    "deletable": true,
    "editable": true
   },
   "outputs": [
    {
     "name": "stdout",
     "output_type": "stream",
     "text": [
      "input <bound method Tensor.get_shape of <tf.Tensor 'x:0' shape=(?, 32, 32, 3) dtype=float32>>\n",
      "after conv <bound method Tensor.get_shape of <tf.Tensor 'Relu:0' shape=(?, 32, 32, 60) dtype=float32>>\n",
      "after max_pool <bound method Tensor.get_shape of <tf.Tensor 'MaxPool:0' shape=(?, 16, 16, 60) dtype=float32>>\n",
      "after conv <bound method Tensor.get_shape of <tf.Tensor 'Relu_1:0' shape=(?, 16, 16, 120) dtype=float32>>\n",
      "after max_pool <bound method Tensor.get_shape of <tf.Tensor 'MaxPool_1:0' shape=(?, 8, 8, 120) dtype=float32>>\n",
      "after conv <bound method Tensor.get_shape of <tf.Tensor 'Relu_2:0' shape=(?, 8, 8, 240) dtype=float32>>\n",
      "after max_pool <bound method Tensor.get_shape of <tf.Tensor 'MaxPool_2:0' shape=(?, 8, 8, 240) dtype=float32>>\n",
      "after flatten <bound method Tensor.get_shape of <tf.Tensor 'Flatten/Reshape:0' shape=(?, 15360) dtype=float32>>\n",
      "after fully_conn <bound method Tensor.get_shape of <tf.Tensor 'Relu_3:0' shape=(?, 1000) dtype=float32>>\n",
      "after outout <bound method Tensor.get_shape of <tf.Tensor 'Add_1:0' shape=(?, 10) dtype=float32>>\n",
      "input <bound method Tensor.get_shape of <tf.Tensor 'Placeholder:0' shape=(?, 32, 32, 3) dtype=float32>>\n",
      "after conv <bound method Tensor.get_shape of <tf.Tensor 'Relu_4:0' shape=(?, 32, 32, 60) dtype=float32>>\n",
      "after max_pool <bound method Tensor.get_shape of <tf.Tensor 'MaxPool_3:0' shape=(?, 16, 16, 60) dtype=float32>>\n",
      "after conv <bound method Tensor.get_shape of <tf.Tensor 'Relu_5:0' shape=(?, 16, 16, 120) dtype=float32>>\n",
      "after max_pool <bound method Tensor.get_shape of <tf.Tensor 'MaxPool_4:0' shape=(?, 8, 8, 120) dtype=float32>>\n",
      "after conv <bound method Tensor.get_shape of <tf.Tensor 'Relu_6:0' shape=(?, 8, 8, 240) dtype=float32>>\n",
      "after max_pool <bound method Tensor.get_shape of <tf.Tensor 'MaxPool_5:0' shape=(?, 8, 8, 240) dtype=float32>>\n",
      "after flatten <bound method Tensor.get_shape of <tf.Tensor 'Flatten_1/Reshape:0' shape=(?, 15360) dtype=float32>>\n",
      "after fully_conn <bound method Tensor.get_shape of <tf.Tensor 'Relu_7:0' shape=(?, 1000) dtype=float32>>\n",
      "after outout <bound method Tensor.get_shape of <tf.Tensor 'Add_3:0' shape=(?, 10) dtype=float32>>\n",
      "Neural Network Built!\n"
     ]
    }
   ],
   "source": [
    "def conv_net(x, keep_prob):\n",
    "    \"\"\"\n",
    "    Create a convolutional neural network model\n",
    "    : x: Placeholder tensor that holds image data.\n",
    "    : keep_prob: Placeholder tensor that hold dropout keep probability.\n",
    "    : return: Tensor that represents logits\n",
    "    \"\"\"\n",
    "    conv_num_outputs = 3\n",
    "    conv_ksize = (5,5)\n",
    "    conv_strides = (1,1)\n",
    "    pool_ksize = (2,2)\n",
    "    pool_strides = (2,2)\n",
    "    \n",
    "    num_fc = 1000\n",
    "    num_outputs = 10\n",
    "    \n",
    "    print('input {}'.format(x.get_shape))\n",
    "    \n",
    "    # TODO: Apply 1, 2, or 3 Convolution and Max Pool layers\n",
    "    #    Play around with different number of outputs, kernel size and stride\n",
    "    # Function Definition from Above:\n",
    "    #    conv2d_maxpool(x_tensor, conv_num_outputs, conv_ksize, conv_strides, pool_ksize, pool_strides)\n",
    "    conv = conv2d_maxpool(x, conv_num_outputs*20, conv_ksize, conv_strides, pool_ksize, pool_strides)\n",
    "    conv = conv2d_maxpool(conv, conv_num_outputs*20*2, (3,3), conv_strides, pool_ksize, pool_strides)\n",
    "    conv = conv2d_maxpool(conv, conv_num_outputs*20*2*2, (2,2), conv_strides, (1,1), (1,1))\n",
    "\n",
    "    #conv = conv2d_maxpool(x, 16, conv_ksize, conv_strides, pool_ksize, pool_strides)\n",
    "    #conv = conv2d_maxpool(conv, 20, conv_ksize, conv_strides, pool_ksize, pool_strides)\n",
    "    #conv = conv2d_maxpool(conv, 20, conv_ksize, conv_strides, pool_ksize, pool_ksize)\n",
    "    \n",
    "\n",
    "    # TODO: Apply a Flatten Layer\n",
    "    # Function Definition from Above:\n",
    "    #   flatten(x_tensor)\n",
    "    flat = flatten(conv)\n",
    "\n",
    "    # TODO: Apply 1, 2, or 3 Fully Connected Layers\n",
    "    #    Play around with different number of outputs\n",
    "    # Function Definition from Above:\n",
    "    #   fully_conn(x_tensor, num_outputs)\n",
    "    fc = fully_conn(flat, num_fc)\n",
    "    fc = tf.nn.dropout(fc, keep_prob)\n",
    "    \n",
    "    #fc = fully_conn(fc, int(num_fc/2) )\n",
    "    #fc = tf.nn.dropout(fc, keep_prob)\n",
    "    \n",
    "    #fc = fully_conn(fc, int(num_fc/4) )\n",
    "    #fc = tf.nn.dropout(fc, keep_prob)\n",
    "\n",
    "    \n",
    "    # TODO: Apply an Output Layer\n",
    "    #    Set this to the number of classes\n",
    "    # Function Definition from Above:\n",
    "    #   output(x_tensor, num_outputs)\n",
    "    cov_net = output(fc, num_outputs)\n",
    "    \n",
    "    # TODO: return output\n",
    "    return cov_net\n",
    "\n",
    "\n",
    "\"\"\"\n",
    "DON'T MODIFY ANYTHING IN THIS CELL THAT IS BELOW THIS LINE\n",
    "\"\"\"\n",
    "\n",
    "##############################\n",
    "## Build the Neural Network ##\n",
    "##############################\n",
    "\n",
    "# Remove previous weights, bias, inputs, etc..\n",
    "tf.reset_default_graph()\n",
    "\n",
    "# Inputs\n",
    "x = neural_net_image_input((32, 32, 3))\n",
    "y = neural_net_label_input(10)\n",
    "keep_prob = neural_net_keep_prob_input()\n",
    "\n",
    "# Model\n",
    "logits = conv_net(x, keep_prob)\n",
    "\n",
    "# Name logits Tensor, so that is can be loaded from disk after training\n",
    "logits = tf.identity(logits, name='logits')\n",
    "\n",
    "# Loss and Optimizer\n",
    "cost = tf.reduce_mean(tf.nn.softmax_cross_entropy_with_logits(logits=logits, labels=y))\n",
    "optimizer = tf.train.AdamOptimizer().minimize(cost)\n",
    "\n",
    "# Accuracy\n",
    "correct_pred = tf.equal(tf.argmax(logits, 1), tf.argmax(y, 1))\n",
    "accuracy = tf.reduce_mean(tf.cast(correct_pred, tf.float32), name='accuracy')\n",
    "\n",
    "tests.test_conv_net(conv_net)"
   ]
  },
  {
   "cell_type": "markdown",
   "metadata": {
    "deletable": true,
    "editable": true
   },
   "source": [
    "## Train the Neural Network\n",
    "### Single Optimization\n",
    "Implement the function `train_neural_network` to do a single optimization.  The optimization should use `optimizer` to optimize in `session` with a `feed_dict` of the following:\n",
    "* `x` for image input\n",
    "* `y` for labels\n",
    "* `keep_prob` for keep probability for dropout\n",
    "\n",
    "This function will be called for each batch, so `tf.global_variables_initializer()` has already been called.\n",
    "\n",
    "Note: Nothing needs to be returned. This function is only optimizing the neural network."
   ]
  },
  {
   "cell_type": "code",
   "execution_count": 26,
   "metadata": {
    "collapsed": false,
    "deletable": true,
    "editable": true
   },
   "outputs": [
    {
     "name": "stdout",
     "output_type": "stream",
     "text": [
      "Tests Passed\n"
     ]
    }
   ],
   "source": [
    "def train_neural_network(session, optimizer, keep_probability, feature_batch, label_batch):\n",
    "    \"\"\"\n",
    "    Optimize the session on a batch of images and labels\n",
    "    : session: Current TensorFlow session\n",
    "    : optimizer: TensorFlow optimizer function\n",
    "    : keep_probability: keep probability\n",
    "    : feature_batch: Batch of Numpy image data\n",
    "    : label_batch: Batch of Numpy label data\n",
    "    \"\"\"\n",
    "    # TODO: Implement Function\n",
    "    feed_dict = {x:feature_batch, y:label_batch, keep_prob:keep_probability}\n",
    "    session.run(optimizer, feed_dict)\n",
    "\n",
    "\n",
    "\"\"\"\n",
    "DON'T MODIFY ANYTHING IN THIS CELL THAT IS BELOW THIS LINE\n",
    "\"\"\"\n",
    "tests.test_train_nn(train_neural_network)"
   ]
  },
  {
   "cell_type": "markdown",
   "metadata": {
    "deletable": true,
    "editable": true
   },
   "source": [
    "### Show Stats\n",
    "Implement the function `print_stats` to print loss and validation accuracy.  Use the global variables `valid_features` and `valid_labels` to calculate validation accuracy.  Use a keep probability of `1.0` to calculate the loss and validation accuracy."
   ]
  },
  {
   "cell_type": "code",
   "execution_count": 27,
   "metadata": {
    "collapsed": false,
    "deletable": true,
    "editable": true
   },
   "outputs": [],
   "source": [
    "def print_stats(session, feature_batch, label_batch, cost, accuracy):\n",
    "    \"\"\"\n",
    "    Print information about loss and validation accuracy\n",
    "    : session: Current TensorFlow session\n",
    "    : feature_batch: Batch of Numpy image data\n",
    "    : label_batch: Batch of Numpy label data\n",
    "    : cost: TensorFlow cost function\n",
    "    : accuracy: TensorFlow accuracy function\n",
    "    \"\"\"\n",
    "    # TODO: Implement Function\n",
    "    loss = session.run(cost, feed_dict={\n",
    "        x: feature_batch,\n",
    "        y: label_batch,\n",
    "        keep_prob: 1.})\n",
    "    valid_acc = sess.run(accuracy, feed_dict={\n",
    "        x: valid_features,\n",
    "        y: valid_labels,\n",
    "        keep_prob: 1.})\n",
    "    print('Loss: {:>10.4f} Validation Accuracy: {:.6f}'.format(\n",
    "                loss,\n",
    "                valid_acc))   "
   ]
  },
  {
   "cell_type": "markdown",
   "metadata": {
    "deletable": true,
    "editable": true
   },
   "source": [
    "### Hyperparameters\n",
    "Tune the following parameters:\n",
    "* Set `epochs` to the number of iterations until the network stops learning or start overfitting\n",
    "* Set `batch_size` to the highest number that your machine has memory for.  Most people set them to common sizes of memory:\n",
    " * 64\n",
    " * 128\n",
    " * 256\n",
    " * ...\n",
    "* Set `keep_probability` to the probability of keeping a node using dropout"
   ]
  },
  {
   "cell_type": "code",
   "execution_count": 28,
   "metadata": {
    "collapsed": true,
    "deletable": true,
    "editable": true
   },
   "outputs": [],
   "source": [
    "# TODO: Tune Parameters\n",
    "epochs = 20\n",
    "batch_size = 128\n",
    "keep_probability = 0.75"
   ]
  },
  {
   "cell_type": "markdown",
   "metadata": {
    "deletable": true,
    "editable": true
   },
   "source": [
    "### Train on a Single CIFAR-10 Batch\n",
    "Instead of training the neural network on all the CIFAR-10 batches of data, let's use a single batch. This should save time while you iterate on the model to get a better accuracy.  Once the final validation accuracy is 50% or greater, run the model on all the data in the next section."
   ]
  },
  {
   "cell_type": "code",
   "execution_count": 29,
   "metadata": {
    "collapsed": false,
    "deletable": true,
    "editable": true
   },
   "outputs": [
    {
     "name": "stdout",
     "output_type": "stream",
     "text": [
      "Checking the Training on a Single Batch...\n",
      "Epoch  1, CIFAR-10 Batch 1:  Loss:     2.3096 Validation Accuracy: 0.106800\n",
      "Epoch  2, CIFAR-10 Batch 1:  Loss:     2.2870 Validation Accuracy: 0.121600\n",
      "Epoch  3, CIFAR-10 Batch 1:  Loss:     2.2117 Validation Accuracy: 0.258400\n",
      "Epoch  4, CIFAR-10 Batch 1:  Loss:     2.0383 Validation Accuracy: 0.337600\n",
      "Epoch  5, CIFAR-10 Batch 1:  Loss:     1.8834 Validation Accuracy: 0.397600\n",
      "Epoch  6, CIFAR-10 Batch 1:  Loss:     1.7101 Validation Accuracy: 0.438200\n",
      "Epoch  7, CIFAR-10 Batch 1:  Loss:     1.6003 Validation Accuracy: 0.448600\n",
      "Epoch  8, CIFAR-10 Batch 1:  Loss:     1.4840 Validation Accuracy: 0.465200\n",
      "Epoch  9, CIFAR-10 Batch 1:  Loss:     1.3120 Validation Accuracy: 0.475200\n",
      "Epoch 10, CIFAR-10 Batch 1:  Loss:     1.1633 Validation Accuracy: 0.483600\n",
      "Epoch 11, CIFAR-10 Batch 1:  Loss:     0.9951 Validation Accuracy: 0.503000\n",
      "Epoch 12, CIFAR-10 Batch 1:  Loss:     0.8482 Validation Accuracy: 0.510600\n",
      "Epoch 13, CIFAR-10 Batch 1:  Loss:     0.6891 Validation Accuracy: 0.517200\n",
      "Epoch 14, CIFAR-10 Batch 1:  Loss:     0.5368 Validation Accuracy: 0.529200\n",
      "Epoch 15, CIFAR-10 Batch 1:  Loss:     0.4633 Validation Accuracy: 0.529200\n",
      "Epoch 16, CIFAR-10 Batch 1:  Loss:     0.3529 Validation Accuracy: 0.527400\n",
      "Epoch 17, CIFAR-10 Batch 1:  Loss:     0.2907 Validation Accuracy: 0.540000\n",
      "Epoch 18, CIFAR-10 Batch 1:  Loss:     0.1848 Validation Accuracy: 0.532000\n",
      "Epoch 19, CIFAR-10 Batch 1:  Loss:     0.1745 Validation Accuracy: 0.543000\n",
      "Epoch 20, CIFAR-10 Batch 1:  Loss:     0.0758 Validation Accuracy: 0.545800\n"
     ]
    }
   ],
   "source": [
    "\"\"\"\n",
    "DON'T MODIFY ANYTHING IN THIS CELL\n",
    "\"\"\"\n",
    "print('Checking the Training on a Single Batch...')\n",
    "with tf.Session() as sess:\n",
    "    # Initializing the variables\n",
    "    sess.run(tf.global_variables_initializer())\n",
    "    \n",
    "    # Training cycle\n",
    "    for epoch in range(epochs):\n",
    "        batch_i = 1\n",
    "        for batch_features, batch_labels in helper.load_preprocess_training_batch(batch_i, batch_size):\n",
    "            train_neural_network(sess, optimizer, keep_probability, batch_features, batch_labels)\n",
    "        print('Epoch {:>2}, CIFAR-10 Batch {}:  '.format(epoch + 1, batch_i), end='')\n",
    "        print_stats(sess, batch_features, batch_labels, cost, accuracy)"
   ]
  },
  {
   "cell_type": "markdown",
   "metadata": {
    "deletable": true,
    "editable": true
   },
   "source": [
    "### Thoughts/comments\n",
    "Final architecture:\n",
    "* covnet (fairly deep)\n",
    "* max pool\n",
    "* covnet\n",
    "* maxpool\n",
    "* covnet\n",
    "* maxpool\n",
    "* fully connected\n",
    "* dropout\n",
    "* output\n",
    "\n",
    "What learned:\n",
    "* Tried lots of stuff!\n",
    "* Tested with 20 epochs initially to try out different things without taking too much time.\n",
    "    * Wound up being Ok for full model. Could have done a bit more but would take too long to run.\n",
    "* For a while, validation accuracy went up then down over epochs. Overfitting?\n",
    "* Larger strides seem to affect accuracy. Not too small either.\n",
    "* Initially, loss was pretty big. Then played with stdev of weights. Don't use defualt of 1! Took a while to figure this part out.\n",
    "* Drop out made a decent improvement to accuracy.\n",
    "* Adding more fully connected layers didn't help much, but made the single one pretty wide. Was surprised needed only one.\n",
    "* Covnet part made biggest difference, and do 1st one pretty deep.\n",
    "* Larger batch sizes got worse performance. I thought this was just a function of RAM, but choice made a difference in accuracy\n",
    "* I tried running this on our 96 core machine at work. All CPUS running at full, but GPU still much faster."
   ]
  },
  {
   "cell_type": "markdown",
   "metadata": {
    "deletable": true,
    "editable": true
   },
   "source": [
    "### Fully Train the Model\n",
    "Now that you got a good accuracy with a single CIFAR-10 batch, try it with all five batches."
   ]
  },
  {
   "cell_type": "code",
   "execution_count": 64,
   "metadata": {
    "collapsed": false,
    "deletable": true,
    "editable": true
   },
   "outputs": [
    {
     "name": "stdout",
     "output_type": "stream",
     "text": [
      "Training...\n",
      "Epoch  1, CIFAR-10 Batch 1:  Loss:     2.3063 Validation Accuracy: 0.097800\n",
      "Epoch  1, CIFAR-10 Batch 2:  Loss:     2.0999 Validation Accuracy: 0.217400\n",
      "Epoch  1, CIFAR-10 Batch 3:  Loss:     1.8175 Validation Accuracy: 0.290600\n",
      "Epoch  1, CIFAR-10 Batch 4:  Loss:     1.7052 Validation Accuracy: 0.380600\n",
      "Epoch  1, CIFAR-10 Batch 5:  Loss:     1.7470 Validation Accuracy: 0.415400\n",
      "Epoch  2, CIFAR-10 Batch 1:  Loss:     1.7246 Validation Accuracy: 0.451400\n",
      "Epoch  2, CIFAR-10 Batch 2:  Loss:     1.5271 Validation Accuracy: 0.465800\n",
      "Epoch  2, CIFAR-10 Batch 3:  Loss:     1.2025 Validation Accuracy: 0.481800\n",
      "Epoch  2, CIFAR-10 Batch 4:  Loss:     1.3507 Validation Accuracy: 0.505000\n",
      "Epoch  2, CIFAR-10 Batch 5:  Loss:     1.3944 Validation Accuracy: 0.532000\n",
      "Epoch  3, CIFAR-10 Batch 1:  Loss:     1.3737 Validation Accuracy: 0.522600\n",
      "Epoch  3, CIFAR-10 Batch 2:  Loss:     1.1434 Validation Accuracy: 0.549000\n",
      "Epoch  3, CIFAR-10 Batch 3:  Loss:     0.9501 Validation Accuracy: 0.565800\n",
      "Epoch  3, CIFAR-10 Batch 4:  Loss:     1.0477 Validation Accuracy: 0.568800\n",
      "Epoch  3, CIFAR-10 Batch 5:  Loss:     1.0681 Validation Accuracy: 0.586800\n",
      "Epoch  4, CIFAR-10 Batch 1:  Loss:     1.1157 Validation Accuracy: 0.579600\n",
      "Epoch  4, CIFAR-10 Batch 2:  Loss:     0.9186 Validation Accuracy: 0.569800\n",
      "Epoch  4, CIFAR-10 Batch 3:  Loss:     0.6454 Validation Accuracy: 0.600000\n",
      "Epoch  4, CIFAR-10 Batch 4:  Loss:     0.7786 Validation Accuracy: 0.597400\n",
      "Epoch  4, CIFAR-10 Batch 5:  Loss:     0.8082 Validation Accuracy: 0.616000\n",
      "Epoch  5, CIFAR-10 Batch 1:  Loss:     0.8826 Validation Accuracy: 0.605800\n",
      "Epoch  5, CIFAR-10 Batch 2:  Loss:     0.6574 Validation Accuracy: 0.620800\n",
      "Epoch  5, CIFAR-10 Batch 3:  Loss:     0.4724 Validation Accuracy: 0.623200\n",
      "Epoch  5, CIFAR-10 Batch 4:  Loss:     0.5166 Validation Accuracy: 0.635000\n",
      "Epoch  5, CIFAR-10 Batch 5:  Loss:     0.5666 Validation Accuracy: 0.620600\n",
      "Epoch  6, CIFAR-10 Batch 1:  Loss:     0.6121 Validation Accuracy: 0.638600\n",
      "Epoch  6, CIFAR-10 Batch 2:  Loss:     0.4467 Validation Accuracy: 0.637400\n",
      "Epoch  6, CIFAR-10 Batch 3:  Loss:     0.2998 Validation Accuracy: 0.638400\n",
      "Epoch  6, CIFAR-10 Batch 4:  Loss:     0.3543 Validation Accuracy: 0.653800\n",
      "Epoch  6, CIFAR-10 Batch 5:  Loss:     0.4215 Validation Accuracy: 0.645400\n",
      "Epoch  7, CIFAR-10 Batch 1:  Loss:     0.3495 Validation Accuracy: 0.666200\n",
      "Epoch  7, CIFAR-10 Batch 2:  Loss:     0.2575 Validation Accuracy: 0.638000\n",
      "Epoch  7, CIFAR-10 Batch 3:  Loss:     0.2164 Validation Accuracy: 0.671800\n",
      "Epoch  7, CIFAR-10 Batch 4:  Loss:     0.2581 Validation Accuracy: 0.662000\n",
      "Epoch  7, CIFAR-10 Batch 5:  Loss:     0.2312 Validation Accuracy: 0.662600\n",
      "Epoch  8, CIFAR-10 Batch 1:  Loss:     0.2119 Validation Accuracy: 0.655800\n",
      "Epoch  8, CIFAR-10 Batch 2:  Loss:     0.1330 Validation Accuracy: 0.665800\n",
      "Epoch  8, CIFAR-10 Batch 3:  Loss:     0.1178 Validation Accuracy: 0.663800\n",
      "Epoch  8, CIFAR-10 Batch 4:  Loss:     0.1501 Validation Accuracy: 0.669200\n",
      "Epoch  8, CIFAR-10 Batch 5:  Loss:     0.1195 Validation Accuracy: 0.656800\n",
      "Epoch  9, CIFAR-10 Batch 1:  Loss:     0.0811 Validation Accuracy: 0.657200\n",
      "Epoch  9, CIFAR-10 Batch 2:  Loss:     0.0825 Validation Accuracy: 0.656800\n",
      "Epoch  9, CIFAR-10 Batch 3:  Loss:     0.0756 Validation Accuracy: 0.646800\n",
      "Epoch  9, CIFAR-10 Batch 4:  Loss:     0.0846 Validation Accuracy: 0.665200\n",
      "Epoch  9, CIFAR-10 Batch 5:  Loss:     0.0651 Validation Accuracy: 0.644800\n",
      "Epoch 10, CIFAR-10 Batch 1:  Loss:     0.0487 Validation Accuracy: 0.671400\n",
      "Epoch 10, CIFAR-10 Batch 2:  Loss:     0.0614 Validation Accuracy: 0.668600\n",
      "Epoch 10, CIFAR-10 Batch 3:  Loss:     0.0472 Validation Accuracy: 0.645600\n",
      "Epoch 10, CIFAR-10 Batch 4:  Loss:     0.0829 Validation Accuracy: 0.646200\n",
      "Epoch 10, CIFAR-10 Batch 5:  Loss:     0.0434 Validation Accuracy: 0.649200\n",
      "Epoch 11, CIFAR-10 Batch 1:  Loss:     0.0504 Validation Accuracy: 0.663400\n",
      "Epoch 11, CIFAR-10 Batch 2:  Loss:     0.0384 Validation Accuracy: 0.651800\n",
      "Epoch 11, CIFAR-10 Batch 3:  Loss:     0.0299 Validation Accuracy: 0.644400\n",
      "Epoch 11, CIFAR-10 Batch 4:  Loss:     0.0533 Validation Accuracy: 0.651200\n",
      "Epoch 11, CIFAR-10 Batch 5:  Loss:     0.0388 Validation Accuracy: 0.666600\n",
      "Epoch 12, CIFAR-10 Batch 1:  Loss:     0.0267 Validation Accuracy: 0.654200\n",
      "Epoch 12, CIFAR-10 Batch 2:  Loss:     0.0343 Validation Accuracy: 0.666200\n",
      "Epoch 12, CIFAR-10 Batch 3:  Loss:     0.0283 Validation Accuracy: 0.644400\n",
      "Epoch 12, CIFAR-10 Batch 4:  Loss:     0.0304 Validation Accuracy: 0.657600\n",
      "Epoch 12, CIFAR-10 Batch 5:  Loss:     0.0161 Validation Accuracy: 0.676400\n",
      "Epoch 13, CIFAR-10 Batch 1:  Loss:     0.0211 Validation Accuracy: 0.669000\n",
      "Epoch 13, CIFAR-10 Batch 2:  Loss:     0.0157 Validation Accuracy: 0.666000\n",
      "Epoch 13, CIFAR-10 Batch 3:  Loss:     0.0139 Validation Accuracy: 0.671400\n",
      "Epoch 13, CIFAR-10 Batch 4:  Loss:     0.0158 Validation Accuracy: 0.652200\n",
      "Epoch 13, CIFAR-10 Batch 5:  Loss:     0.0100 Validation Accuracy: 0.678600\n",
      "Epoch 14, CIFAR-10 Batch 1:  Loss:     0.0157 Validation Accuracy: 0.661400\n",
      "Epoch 14, CIFAR-10 Batch 2:  Loss:     0.0100 Validation Accuracy: 0.663200\n",
      "Epoch 14, CIFAR-10 Batch 3:  Loss:     0.0232 Validation Accuracy: 0.675600\n",
      "Epoch 14, CIFAR-10 Batch 4:  Loss:     0.0111 Validation Accuracy: 0.673000\n",
      "Epoch 14, CIFAR-10 Batch 5:  Loss:     0.0076 Validation Accuracy: 0.677800\n",
      "Epoch 15, CIFAR-10 Batch 1:  Loss:     0.0104 Validation Accuracy: 0.672800\n",
      "Epoch 15, CIFAR-10 Batch 2:  Loss:     0.0060 Validation Accuracy: 0.660800\n",
      "Epoch 15, CIFAR-10 Batch 3:  Loss:     0.0101 Validation Accuracy: 0.670800\n",
      "Epoch 15, CIFAR-10 Batch 4:  Loss:     0.0068 Validation Accuracy: 0.682000\n",
      "Epoch 15, CIFAR-10 Batch 5:  Loss:     0.0120 Validation Accuracy: 0.669400\n",
      "Epoch 16, CIFAR-10 Batch 1:  Loss:     0.0034 Validation Accuracy: 0.670600\n",
      "Epoch 16, CIFAR-10 Batch 2:  Loss:     0.0030 Validation Accuracy: 0.658400\n",
      "Epoch 16, CIFAR-10 Batch 3:  Loss:     0.0061 Validation Accuracy: 0.669200\n",
      "Epoch 16, CIFAR-10 Batch 4:  Loss:     0.0068 Validation Accuracy: 0.660400\n",
      "Epoch 16, CIFAR-10 Batch 5:  Loss:     0.0031 Validation Accuracy: 0.673000\n",
      "Epoch 17, CIFAR-10 Batch 1:  Loss:     0.0029 Validation Accuracy: 0.677800\n",
      "Epoch 17, CIFAR-10 Batch 2:  Loss:     0.0029 Validation Accuracy: 0.655000\n",
      "Epoch 17, CIFAR-10 Batch 3:  Loss:     0.0053 Validation Accuracy: 0.675000\n",
      "Epoch 17, CIFAR-10 Batch 4:  Loss:     0.0022 Validation Accuracy: 0.668200\n",
      "Epoch 17, CIFAR-10 Batch 5:  Loss:     0.0012 Validation Accuracy: 0.679800\n",
      "Epoch 18, CIFAR-10 Batch 1:  Loss:     0.0064 Validation Accuracy: 0.675000\n",
      "Epoch 18, CIFAR-10 Batch 2:  Loss:     0.0033 Validation Accuracy: 0.659600\n",
      "Epoch 18, CIFAR-10 Batch 3:  Loss:     0.0025 Validation Accuracy: 0.669400\n",
      "Epoch 18, CIFAR-10 Batch 4:  Loss:     0.0054 Validation Accuracy: 0.667000\n",
      "Epoch 18, CIFAR-10 Batch 5:  Loss:     0.0006 Validation Accuracy: 0.680200\n",
      "Epoch 19, CIFAR-10 Batch 1:  Loss:     0.0052 Validation Accuracy: 0.675400\n",
      "Epoch 19, CIFAR-10 Batch 2:  Loss:     0.0009 Validation Accuracy: 0.679800\n",
      "Epoch 19, CIFAR-10 Batch 3:  Loss:     0.0025 Validation Accuracy: 0.672200\n",
      "Epoch 19, CIFAR-10 Batch 4:  Loss:     0.0017 Validation Accuracy: 0.664400\n",
      "Epoch 19, CIFAR-10 Batch 5:  Loss:     0.0029 Validation Accuracy: 0.678000\n",
      "Epoch 20, CIFAR-10 Batch 1:  Loss:     0.0035 Validation Accuracy: 0.673400\n",
      "Epoch 20, CIFAR-10 Batch 2:  Loss:     0.0010 Validation Accuracy: 0.674800\n",
      "Epoch 20, CIFAR-10 Batch 3:  Loss:     0.0056 Validation Accuracy: 0.667600\n",
      "Epoch 20, CIFAR-10 Batch 4:  Loss:     0.0031 Validation Accuracy: 0.666600\n",
      "Epoch 20, CIFAR-10 Batch 5:  Loss:     0.0009 Validation Accuracy: 0.671800\n"
     ]
    }
   ],
   "source": [
    "\"\"\"\n",
    "DON'T MODIFY ANYTHING IN THIS CELL\n",
    "\"\"\"\n",
    "save_model_path = './image_classification'\n",
    "\n",
    "print('Training...')\n",
    "with tf.Session() as sess:\n",
    "    # Initializing the variables\n",
    "    sess.run(tf.global_variables_initializer())\n",
    "    \n",
    "    # Training cycle\n",
    "    for epoch in range(epochs):\n",
    "        # Loop over all batches\n",
    "        n_batches = 5\n",
    "        for batch_i in range(1, n_batches + 1):\n",
    "            for batch_features, batch_labels in helper.load_preprocess_training_batch(batch_i, batch_size):\n",
    "                train_neural_network(sess, optimizer, keep_probability, batch_features, batch_labels)\n",
    "            print('Epoch {:>2}, CIFAR-10 Batch {}:  '.format(epoch + 1, batch_i), end='')\n",
    "            print_stats(sess, batch_features, batch_labels, cost, accuracy)\n",
    "            \n",
    "    # Save Model\n",
    "    saver = tf.train.Saver()\n",
    "    save_path = saver.save(sess, save_model_path)"
   ]
  },
  {
   "cell_type": "markdown",
   "metadata": {
    "deletable": true,
    "editable": true
   },
   "source": [
    "# Checkpoint\n",
    "The model has been saved to disk.\n",
    "## Test Model\n",
    "Test your model against the test dataset.  This will be your final accuracy. You should have an accuracy greater than 50%. If you don't, keep tweaking the model architecture and parameters."
   ]
  },
  {
   "cell_type": "code",
   "execution_count": 1,
   "metadata": {
    "collapsed": false,
    "deletable": true,
    "editable": true
   },
   "outputs": [
    {
     "name": "stdout",
     "output_type": "stream",
     "text": [
      "Testing Accuracy: 0.6751592356687898\n",
      "\n"
     ]
    },
    {
     "data": {
      "image/png": "[encoded data removed]",
      "text/plain": [
       "<matplotlib.figure.Figure at 0x7f2461548ef0>"
      ]
     },
     "metadata": {
      "image/png": {
       "height": 319,
       "width": 355
      }
     },
     "output_type": "display_data"
    }
   ],
   "source": [
    "\"\"\"\n",
    "DON'T MODIFY ANYTHING IN THIS CELL\n",
    "\"\"\"\n",
    "%matplotlib inline\n",
    "%config InlineBackend.figure_format = 'retina'\n",
    "\n",
    "import tensorflow as tf\n",
    "import pickle\n",
    "import helper\n",
    "import random\n",
    "\n",
    "# Set batch size if not already set\n",
    "try:\n",
    "    if batch_size:\n",
    "        pass\n",
    "except NameError:\n",
    "    batch_size = 64\n",
    "\n",
    "save_model_path = './image_classification'\n",
    "n_samples = 4\n",
    "top_n_predictions = 3\n",
    "\n",
    "def test_model():\n",
    "    \"\"\"\n",
    "    Test the saved model against the test dataset\n",
    "    \"\"\"\n",
    "\n",
    "    test_features, test_labels = pickle.load(open('preprocess_training.p', mode='rb'))\n",
    "    loaded_graph = tf.Graph()\n",
    "\n",
    "    with tf.Session(graph=loaded_graph) as sess:\n",
    "        # Load model\n",
    "        loader = tf.train.import_meta_graph(save_model_path + '.meta')\n",
    "        loader.restore(sess, save_model_path)\n",
    "\n",
    "        # Get Tensors from loaded model\n",
    "        loaded_x = loaded_graph.get_tensor_by_name('x:0')\n",
    "        loaded_y = loaded_graph.get_tensor_by_name('y:0')\n",
    "        loaded_keep_prob = loaded_graph.get_tensor_by_name('keep_prob:0')\n",
    "        loaded_logits = loaded_graph.get_tensor_by_name('logits:0')\n",
    "        loaded_acc = loaded_graph.get_tensor_by_name('accuracy:0')\n",
    "        \n",
    "        # Get accuracy in batches for memory limitations\n",
    "        test_batch_acc_total = 0\n",
    "        test_batch_count = 0\n",
    "        \n",
    "        for train_feature_batch, train_label_batch in helper.batch_features_labels(test_features, test_labels, batch_size):\n",
    "            test_batch_acc_total += sess.run(\n",
    "                loaded_acc,\n",
    "                feed_dict={loaded_x: train_feature_batch, loaded_y: train_label_batch, loaded_keep_prob: 1.0})\n",
    "            test_batch_count += 1\n",
    "\n",
    "        print('Testing Accuracy: {}\\n'.format(test_batch_acc_total/test_batch_count))\n",
    "\n",
    "        # Print Random Samples\n",
    "        random_test_features, random_test_labels = tuple(zip(*random.sample(list(zip(test_features, test_labels)), n_samples)))\n",
    "        random_test_predictions = sess.run(\n",
    "            tf.nn.top_k(tf.nn.softmax(loaded_logits), top_n_predictions),\n",
    "            feed_dict={loaded_x: random_test_features, loaded_y: random_test_labels, loaded_keep_prob: 1.0})\n",
    "        helper.display_image_predictions(random_test_features, random_test_labels, random_test_predictions)\n",
    "\n",
    "\n",
    "test_model()"
   ]
  },
  {
   "cell_type": "markdown",
   "metadata": {
    "deletable": true,
    "editable": true
   },
   "source": [
    "## Why 50-70% Accuracy?\n",
    "You might be wondering why you can't get an accuracy any higher. First things first, 50% isn't bad for a simple CNN.  Pure guessing would get you 10% accuracy. However, you might notice people are getting scores [well above 70%](http://rodrigob.github.io/are_we_there_yet/build/classification_datasets_results.html#43494641522d3130).  That's because we haven't taught you all there is to know about neural networks. We still need to cover a few more techniques.\n",
    "## Submitting This Project\n",
    "When submitting this project, make sure to run all the cells before saving the notebook.  Save the notebook file as \"dlnd_image_classification.ipynb\" and save it as a HTML file under \"File\" -> \"Download as\".  Include the \"helper.py\" and \"problem_unittests.py\" files in your submission."
   ]
  }
 ],
 "metadata": {
  "kernelspec": {
   "display_name": "Python 3",
   "language": "python",
   "name": "python3"
  },
  "language_info": {
   "codemirror_mode": {
    "name": "ipython",
    "version": 3
   },
   "file_extension": ".py",
   "mimetype": "text/x-python",
   "name": "python",
   "nbconvert_exporter": "python",
   "pygments_lexer": "ipython3",
   "version": "3.5.2"
  },
  "widgets": {
   "state": {},
   "version": "1.1.2"
  }
 },
 "nbformat": 4,
 "nbformat_minor": 0
}
