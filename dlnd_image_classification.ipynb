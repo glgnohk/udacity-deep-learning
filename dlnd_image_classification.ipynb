{
 "cells": [
  {
   "cell_type": "markdown",
   "metadata": {
    "collapsed": true,
    "deletable": true,
    "editable": true
   },
   "source": [
    "# Image Classification\n",
    "In this project, you'll classify images from the [CIFAR-10 dataset](https://www.cs.toronto.edu/~kriz/cifar.html).  The dataset consists of airplanes, dogs, cats, and other objects. You'll preprocess the images, then train a convolutional neural network on all the samples. The images need to be normalized and the labels need to be one-hot encoded.  You'll get to apply what you learned and build a convolutional, max pooling, dropout, and fully connected layers.  At the end, you'll get to see your neural network's predictions on the sample images.\n",
    "## Get the Data\n",
    "Run the following cell to download the [CIFAR-10 dataset for python](https://www.cs.toronto.edu/~kriz/cifar-10-python.tar.gz)."
   ]
  },
  {
   "cell_type": "code",
   "execution_count": 1,
   "metadata": {
    "collapsed": false,
    "deletable": true,
    "editable": true
   },
   "outputs": [
    {
     "name": "stderr",
     "output_type": "stream",
     "text": [
      "CIFAR-10 Dataset: 171MB [00:40, 4.17MB/s]                               \n"
     ]
    },
    {
     "name": "stdout",
     "output_type": "stream",
     "text": [
      "All files found!\n"
     ]
    }
   ],
   "source": [
    "\"\"\"\n",
    "DON'T MODIFY ANYTHING IN THIS CELL THAT IS BELOW THIS LINE\n",
    "\"\"\"\n",
    "from urllib.request import urlretrieve\n",
    "from os.path import isfile, isdir\n",
    "from tqdm import tqdm\n",
    "import problem_unittests as tests\n",
    "import tarfile\n",
    "\n",
    "cifar10_dataset_folder_path = 'cifar-10-batches-py'\n",
    "\n",
    "class DLProgress(tqdm):\n",
    "    last_block = 0\n",
    "\n",
    "    def hook(self, block_num=1, block_size=1, total_size=None):\n",
    "        self.total = total_size\n",
    "        self.update((block_num - self.last_block) * block_size)\n",
    "        self.last_block = block_num\n",
    "\n",
    "if not isfile('cifar-10-python.tar.gz'):\n",
    "    with DLProgress(unit='B', unit_scale=True, miniters=1, desc='CIFAR-10 Dataset') as pbar:\n",
    "        urlretrieve(\n",
    "            'https://www.cs.toronto.edu/~kriz/cifar-10-python.tar.gz',\n",
    "            'cifar-10-python.tar.gz',\n",
    "            pbar.hook)\n",
    "\n",
    "if not isdir(cifar10_dataset_folder_path):\n",
    "    with tarfile.open('cifar-10-python.tar.gz') as tar:\n",
    "        tar.extractall()\n",
    "        tar.close()\n",
    "\n",
    "\n",
    "tests.test_folder_path(cifar10_dataset_folder_path)"
   ]
  },
  {
   "cell_type": "markdown",
   "metadata": {
    "deletable": true,
    "editable": true
   },
   "source": [
    "## Explore the Data\n",
    "The dataset is broken into batches to prevent your machine from running out of memory.  The CIFAR-10 dataset consists of 5 batches, named `data_batch_1`, `data_batch_2`, etc.. Each batch contains the labels and images that are one of the following:\n",
    "* airplane\n",
    "* automobile\n",
    "* bird\n",
    "* cat\n",
    "* deer\n",
    "* dog\n",
    "* frog\n",
    "* horse\n",
    "* ship\n",
    "* truck\n",
    "\n",
    "Understanding a dataset is part of making predictions on the data.  Play around with the code cell below by changing the `batch_id` and `sample_id`. The `batch_id` is the id for a batch (1-5). The `sample_id` is the id for a image and label pair in the batch.\n",
    "\n",
    "Ask yourself \"What are all possible labels?\", \"What is the range of values for the image data?\", \"Are the labels in order or random?\".  Answers to questions like these will help you preprocess the data and end up with better predictions."
   ]
  },
  {
   "cell_type": "code",
   "execution_count": 54,
   "metadata": {
    "collapsed": false,
    "deletable": true,
    "editable": true
   },
   "outputs": [
    {
     "name": "stdout",
     "output_type": "stream",
     "text": [
      "\n",
      "Stats of batch 1:\n",
      "Samples: 10000\n",
      "Label Counts: {0: 1005, 1: 974, 2: 1032, 3: 1016, 4: 999, 5: 937, 6: 1030, 7: 1001, 8: 1025, 9: 981}\n",
      "First 20 Labels: [6, 9, 9, 4, 1, 1, 2, 7, 8, 3, 4, 7, 7, 2, 9, 9, 9, 3, 2, 6]\n",
      "\n",
      "Example of Image 8:\n",
      "Image - Min Value: 8 Max Value: 252\n",
      "Image - Shape: (32, 32, 3)\n",
      "Label - Label Id: 8 Name: ship\n"
     ]
    },
    {
     "data": {
      "image/png": "[encoded data removed]",
      "text/plain": [
       "<matplotlib.figure.Figure at 0x7f7cf827db38>"
      ]
     },
     "metadata": {
      "image/png": {
       "height": 250,
       "width": 253
      }
     },
     "output_type": "display_data"
    }
   ],
   "source": [
    "%matplotlib inline\n",
    "%config InlineBackend.figure_format = 'retina'\n",
    "\n",
    "import helper\n",
    "import numpy as np\n",
    "\n",
    "# Explore the dataset\n",
    "batch_id = 1\n",
    "sample_id = 8\n",
    "helper.display_stats(cifar10_dataset_folder_path, batch_id, sample_id)"
   ]
  },
  {
   "cell_type": "markdown",
   "metadata": {
    "deletable": true,
    "editable": true
   },
   "source": [
    "## Implement Preprocess Functions\n",
    "### Normalize\n",
    "In the cell below, implement the `normalize` function to take in image data, `x`, and return it as a normalized Numpy array. The values should be in the range of 0 to 1, inclusive.  The return object should be the same shape as `x`."
   ]
  },
  {
   "cell_type": "code",
   "execution_count": 137,
   "metadata": {
    "collapsed": false,
    "deletable": true,
    "editable": true
   },
   "outputs": [
    {
     "name": "stdout",
     "output_type": "stream",
     "text": [
      "Tests Passed\n"
     ]
    }
   ],
   "source": [
    "def normalize(x):\n",
    "    \"\"\"\n",
    "    Normalize a list of sample image data in the range of 0 to 1\n",
    "    : x: List of image data.  The image shape is (32, 32, 3)\n",
    "    : return: Numpy array of normalize data\n",
    "    \"\"\"\n",
    "    # TODO: Implement Function\n",
    "    #print(x)\n",
    "    return x/255\n",
    "\n",
    "\n",
    "\"\"\"\n",
    "DON'T MODIFY ANYTHING IN THIS CELL THAT IS BELOW THIS LINE\n",
    "\"\"\"\n",
    "tests.test_normalize(normalize)"
   ]
  },
  {
   "cell_type": "markdown",
   "metadata": {
    "deletable": true,
    "editable": true
   },
   "source": [
    "### One-hot encode\n",
    "Just like the previous code cell, you'll be implementing a function for preprocessing.  This time, you'll implement the `one_hot_encode` function. The input, `x`, are a list of labels.  Implement the function to return the list of labels as One-Hot encoded Numpy array.  The possible values for labels are 0 to 9. The one-hot encoding function should return the same encoding for each value between each call to `one_hot_encode`.  Make sure to save the map of encodings outside the function.\n",
    "\n",
    "Hint: Don't reinvent the wheel."
   ]
  },
  {
   "cell_type": "code",
   "execution_count": 4,
   "metadata": {
    "collapsed": false,
    "deletable": true,
    "editable": true
   },
   "outputs": [
    {
     "name": "stdout",
     "output_type": "stream",
     "text": [
      "[[0 1 0 0 0 0 0 0 0 0]\n",
      " [0 0 0 1 0 0 0 0 0 0]]\n",
      "LabelBinarizer(neg_label=0, pos_label=1, sparse_output=False)\n",
      "[[0 1 0 0 0 0 0 0 0 0]\n",
      " [0 0 0 1 0 0 0 0 0 0]]\n",
      "Tests Passed\n"
     ]
    }
   ],
   "source": [
    "from sklearn import preprocessing\n",
    "import numpy as np\n",
    "\n",
    "lb = None\n",
    "\n",
    "def one_hot_encode(x):\n",
    "    \"\"\"\n",
    "    One hot encode a list of sample labels. Return a one-hot encoded vector for each label.\n",
    "    : x: List of sample Labels\n",
    "    : return: Numpy array of one-hot encoded labels\n",
    "    \"\"\"\n",
    "    # TODO: Implement Function\n",
    "    #print(x)\n",
    "    global lb\n",
    "    labels = np.array([0,1,2,3,4,5,6,7,8,9])\n",
    "\n",
    "    # Create the encoder\n",
    "    lb = preprocessing.LabelBinarizer()\n",
    "\n",
    "    # Here the encoder finds the classes and assigns one-hot vectors \n",
    "    lb.fit(labels)\n",
    "\n",
    "    # And finally, transform the labels into one-hot encoded vectors\n",
    "    return lb.transform(x)\n",
    "\n",
    "test_vec = [1,3]\n",
    "ohe = one_hot_encode(test_vec)\n",
    "print(ohe)\n",
    "print(lb)\n",
    "print(lb.transform(test_vec))\n",
    "\n",
    "\"\"\"\n",
    "DON'T MODIFY ANYTHING IN THIS CELL THAT IS BELOW THIS LINE\n",
    "\"\"\"\n",
    "tests.test_one_hot_encode(one_hot_encode)"
   ]
  },
  {
   "cell_type": "markdown",
   "metadata": {
    "deletable": true,
    "editable": true
   },
   "source": [
    "### Randomize Data\n",
    "As you saw from exploring the data above, the order of the samples are randomized.  It doesn't hurt to randomize it again, but you don't need to for this dataset."
   ]
  },
  {
   "cell_type": "markdown",
   "metadata": {
    "deletable": true,
    "editable": true
   },
   "source": [
    "## Preprocess all the data and save it\n",
    "Running the code cell below will preprocess all the CIFAR-10 data and save it to file. The code below also uses 10% of the training data for validation."
   ]
  },
  {
   "cell_type": "code",
   "execution_count": 5,
   "metadata": {
    "collapsed": false,
    "deletable": true,
    "editable": true
   },
   "outputs": [],
   "source": [
    "\"\"\"\n",
    "DON'T MODIFY ANYTHING IN THIS CELL\n",
    "\"\"\"\n",
    "# Preprocess Training, Validation, and Testing Data\n",
    "helper.preprocess_and_save_data(cifar10_dataset_folder_path, normalize, one_hot_encode)"
   ]
  },
  {
   "cell_type": "markdown",
   "metadata": {
    "deletable": true,
    "editable": true
   },
   "source": [
    "# Check Point\n",
    "This is your first checkpoint.  If you ever decide to come back to this notebook or have to restart the notebook, you can start from here.  The preprocessed data has been saved to disk."
   ]
  },
  {
   "cell_type": "code",
   "execution_count": 6,
   "metadata": {
    "collapsed": true,
    "deletable": true,
    "editable": true
   },
   "outputs": [],
   "source": [
    "\"\"\"\n",
    "DON'T MODIFY ANYTHING IN THIS CELL\n",
    "\"\"\"\n",
    "import pickle\n",
    "import problem_unittests as tests\n",
    "import helper\n",
    "\n",
    "# Load the Preprocessed Validation data\n",
    "valid_features, valid_labels = pickle.load(open('preprocess_validation.p', mode='rb'))"
   ]
  },
  {
   "cell_type": "code",
   "execution_count": 18,
   "metadata": {
    "collapsed": false
   },
   "outputs": [
    {
     "name": "stdout",
     "output_type": "stream",
     "text": [
      "(5000, 32, 32, 3)\n",
      "(5000, 10)\n",
      "[[[ 0.54901961  0.49019608  0.45098039]\n",
      "  [ 0.57254902  0.50980392  0.47843137]\n",
      "  [ 0.56078431  0.49803922  0.47843137]\n",
      "  ..., \n",
      "  [ 0.66666667  0.56862745  0.51372549]\n",
      "  [ 0.69019608  0.58823529  0.5254902 ]\n",
      "  [ 0.66666667  0.57647059  0.52156863]]\n",
      "\n",
      " [[ 0.4745098   0.42352941  0.50588235]\n",
      "  [ 0.50980392  0.4627451   0.54509804]\n",
      "  [ 0.5254902   0.4745098   0.56078431]\n",
      "  ..., \n",
      "  [ 0.63921569  0.55294118  0.61568627]\n",
      "  [ 0.66666667  0.57254902  0.63137255]\n",
      "  [ 0.66666667  0.58039216  0.63137255]]\n",
      "\n",
      " [[ 0.59607843  0.54509804  0.68235294]\n",
      "  [ 0.61568627  0.56862745  0.70196078]\n",
      "  [ 0.60784314  0.56078431  0.68627451]\n",
      "  ..., \n",
      "  [ 0.69411765  0.60392157  0.75686275]\n",
      "  [ 0.70980392  0.61176471  0.76078431]\n",
      "  [ 0.71764706  0.62745098  0.76078431]]\n",
      "\n",
      " ..., \n",
      " [[ 0.49019608  0.43137255  0.4       ]\n",
      "  [ 0.50588235  0.43921569  0.40392157]\n",
      "  [ 0.29803922  0.2627451   0.18431373]\n",
      "  ..., \n",
      "  [ 0.65882353  0.5372549   0.47058824]\n",
      "  [ 0.61960784  0.49411765  0.40392157]\n",
      "  [ 0.57254902  0.45490196  0.34117647]]\n",
      "\n",
      " [[ 0.33333333  0.30196078  0.2745098 ]\n",
      "  [ 0.36862745  0.31764706  0.27843137]\n",
      "  [ 0.29019608  0.25490196  0.17647059]\n",
      "  ..., \n",
      "  [ 0.63529412  0.51764706  0.41568627]\n",
      "  [ 0.65098039  0.5254902   0.39215686]\n",
      "  [ 0.61960784  0.50196078  0.36078431]]\n",
      "\n",
      " [[ 0.49019608  0.43921569  0.43529412]\n",
      "  [ 0.50980392  0.44313725  0.43529412]\n",
      "  [ 0.41176471  0.35686275  0.29411765]\n",
      "  ..., \n",
      "  [ 0.51764706  0.41568627  0.30588235]\n",
      "  [ 0.50980392  0.39607843  0.25098039]\n",
      "  [ 0.55686275  0.45098039  0.30588235]]]\n",
      "[0 0 0 0 1 0 0 0 0 0]\n"
     ]
    }
   ],
   "source": [
    "# check data\n",
    "print(valid_features.shape)\n",
    "print(valid_labels.shape)\n",
    "print(valid_features[0])\n",
    "print(valid_labels[0])"
   ]
  },
  {
   "cell_type": "markdown",
   "metadata": {
    "deletable": true,
    "editable": true
   },
   "source": [
    "## Build the network\n",
    "For the neural network, you'll build each layer into a function.  Most of the code you've seen has been outside of functions. To test your code more thoroughly, we require that you put each layer in a function.  This allows us to give you better feedback and test for simple mistakes using our unittests before you submit your project.\n",
    "\n",
    ">**Note:** If you're finding it hard to dedicate enough time for this course each week, we've provided a small shortcut to this part of the project. In the next couple of problems, you'll have the option to use classes from the [TensorFlow Layers](https://www.tensorflow.org/api_docs/python/tf/layers) or [TensorFlow Layers (contrib)](https://www.tensorflow.org/api_guides/python/contrib.layers) packages to build each layer, except the layers you build in the \"Convolutional and Max Pooling Layer\" section.  TF Layers is similar to Keras's and TFLearn's abstraction to layers, so it's easy to pickup.\n",
    "\n",
    ">However, if you would like to get the most out of this course, try to solve all the problems _without_ using anything from the TF Layers packages. You **can** still use classes from other packages that happen to have the same name as ones you find in TF Layers! For example, instead of using the TF Layers version of the `conv2d` class, [tf.layers.conv2d](https://www.tensorflow.org/api_docs/python/tf/layers/conv2d), you would want to use the TF Neural Network version of `conv2d`, [tf.nn.conv2d](https://www.tensorflow.org/api_docs/python/tf/nn/conv2d). \n",
    "\n",
    "Let's begin!\n",
    "\n",
    "### Input\n",
    "The neural network needs to read the image data, one-hot encoded labels, and dropout keep probability. Implement the following functions\n",
    "* Implement `neural_net_image_input`\n",
    " * Return a [TF Placeholder](https://www.tensorflow.org/api_docs/python/tf/placeholder)\n",
    " * Set the shape using `image_shape` with batch size set to `None`.\n",
    " * Name the TensorFlow placeholder \"x\" using the TensorFlow `name` parameter in the [TF Placeholder](https://www.tensorflow.org/api_docs/python/tf/placeholder).\n",
    "* Implement `neural_net_label_input`\n",
    " * Return a [TF Placeholder](https://www.tensorflow.org/api_docs/python/tf/placeholder)\n",
    " * Set the shape using `n_classes` with batch size set to `None`.\n",
    " * Name the TensorFlow placeholder \"y\" using the TensorFlow `name` parameter in the [TF Placeholder](https://www.tensorflow.org/api_docs/python/tf/placeholder).\n",
    "* Implement `neural_net_keep_prob_input`\n",
    " * Return a [TF Placeholder](https://www.tensorflow.org/api_docs/python/tf/placeholder) for dropout keep probability.\n",
    " * Name the TensorFlow placeholder \"keep_prob\" using the TensorFlow `name` parameter in the [TF Placeholder](https://www.tensorflow.org/api_docs/python/tf/placeholder).\n",
    "\n",
    "These names will be used at the end of the project to load your saved model.\n",
    "\n",
    "Note: `None` for shapes in TensorFlow allow for a dynamic size."
   ]
  },
  {
   "cell_type": "code",
   "execution_count": 19,
   "metadata": {
    "collapsed": false,
    "deletable": true,
    "editable": true
   },
   "outputs": [
    {
     "name": "stdout",
     "output_type": "stream",
     "text": [
      "Image Input Tests Passed.\n",
      "Label Input Tests Passed.\n",
      "Keep Prob Tests Passed.\n"
     ]
    }
   ],
   "source": [
    "import tensorflow as tf\n",
    "\n",
    "def neural_net_image_input(image_shape):\n",
    "    \"\"\"\n",
    "    Return a Tensor for a bach of image input\n",
    "    : image_shape: Shape of the images\n",
    "    : return: Tensor for image input.\n",
    "    \"\"\"\n",
    "    # TODO: Implement Function\n",
    "    #print(image_shape)\n",
    "    li = [s for s in image_shape]\n",
    "    li.insert(0,None)\n",
    "    #print(li)\n",
    "    return tf.placeholder(tf.float32, shape=li, name ='x')\n",
    "\n",
    "\n",
    "def neural_net_label_input(n_classes):\n",
    "    \"\"\"\n",
    "    Return a Tensor for a batch of label input\n",
    "    : n_classes: Number of classes\n",
    "    : return: Tensor for label input.\n",
    "    \"\"\"\n",
    "    # TODO: Implement Function\n",
    "    li = [None,n_classes]\n",
    "    return tf.placeholder(tf.float32, shape=li, name ='y')\n",
    "\n",
    "\n",
    "def neural_net_keep_prob_input():\n",
    "    \"\"\"\n",
    "    Return a Tensor for keep probability\n",
    "    : return: Tensor for keep probability.\n",
    "    \"\"\"\n",
    "    # TODO: Implement Function\n",
    "    return tf.placeholder(tf.float32, name ='keep_prob')\n",
    "\n",
    "\n",
    "\"\"\"\n",
    "DON'T MODIFY ANYTHING IN THIS CELL THAT IS BELOW THIS LINE\n",
    "\"\"\"\n",
    "tf.reset_default_graph()\n",
    "tests.test_nn_image_inputs(neural_net_image_input)\n",
    "tests.test_nn_label_inputs(neural_net_label_input)\n",
    "tests.test_nn_keep_prob_inputs(neural_net_keep_prob_input)"
   ]
  },
  {
   "cell_type": "markdown",
   "metadata": {
    "deletable": true,
    "editable": true
   },
   "source": [
    "### Convolution and Max Pooling Layer\n",
    "Convolution layers have a lot of success with images. For this code cell, you should implement the function `conv2d_maxpool` to apply convolution then max pooling:\n",
    "* Create the weight and bias using `conv_ksize`, `conv_num_outputs` and the shape of `x_tensor`.\n",
    "* Apply a convolution to `x_tensor` using weight and `conv_strides`.\n",
    " * We recommend you use same padding, but you're welcome to use any padding.\n",
    "* Add bias\n",
    "* Add a nonlinear activation to the convolution.\n",
    "* Apply Max Pooling using `pool_ksize` and `pool_strides`.\n",
    " * We recommend you use same padding, but you're welcome to use any padding.\n",
    "\n",
    "**Note:** You **can't** use [TensorFlow Layers](https://www.tensorflow.org/api_docs/python/tf/layers) or [TensorFlow Layers (contrib)](https://www.tensorflow.org/api_guides/python/contrib.layers) for **this** layer, but you can still use TensorFlow's [Neural Network](https://www.tensorflow.org/api_docs/python/tf/nn) package. You may still use the shortcut option for all the **other** layers."
   ]
  },
  {
   "cell_type": "code",
   "execution_count": 155,
   "metadata": {
    "collapsed": false,
    "deletable": true,
    "editable": true
   },
   "outputs": [
    {
     "name": "stdout",
     "output_type": "stream",
     "text": [
      "Tests Passed\n"
     ]
    }
   ],
   "source": [
    "def conv2d_maxpool(x_tensor, conv_num_outputs, conv_ksize, conv_strides, pool_ksize, pool_strides):\n",
    "    \"\"\"\n",
    "    Apply convolution then max pooling to x_tensor\n",
    "    :param x_tensor: TensorFlow Tensor\n",
    "    :param conv_num_outputs: Number of outputs for the convolutional layer\n",
    "    :param conv_ksize: kernal size 2-D Tuple for the convolutional layer\n",
    "    :param conv_strides: Stride 2-D Tuple for convolution\n",
    "    :param pool_ksize: kernal size 2-D Tuple for pool\n",
    "    :param pool_strides: Stride 2-D Tuple for pool\n",
    "    : return: A tensor that represents convolution and max pooling of x_tensor\n",
    "    \"\"\"\n",
    "    # TODO: Implement Function\n",
    "    #print(x_tensor.get_shape())\n",
    "    #print(conv_num_outputs)\n",
    "    #print(conv_ksize)\n",
    "    #print(conv_strides)\n",
    "    #print(pool_ksize)\n",
    "    #print(pool_strides)\n",
    "    # Weight and bias\n",
    "    depth = x_tensor.get_shape().as_list()[3]\n",
    "    list_shape = [conv_ksize[0], conv_ksize[1], depth, conv_num_outputs]\n",
    "    weight = tf.Variable( tf.truncated_normal(list_shape) )\n",
    "    bias = tf.Variable( tf.zeros(conv_num_outputs) )\n",
    "    \n",
    "    # Add convolution\n",
    "    conv_layer = tf.nn.conv2d(x_tensor, weight, strides=[1,conv_strides[0],conv_strides[1], 1], padding='SAME')\n",
    "    # Add bias\n",
    "    conv_layer = tf.nn.bias_add(conv_layer, bias)\n",
    "    # Apply activation function\n",
    "    conv_layer = tf.nn.relu(conv_layer)   \n",
    "\n",
    "    # Apply Max Pooling\n",
    "    conv_layer = tf.nn.max_pool(\n",
    "        conv_layer,\n",
    "        ksize=[1, pool_ksize[0], pool_ksize[1], 1],\n",
    "        strides=[1, pool_strides[0], pool_strides[1], 1],\n",
    "        padding='SAME')\n",
    "    \n",
    "    return conv_layer \n",
    "\n",
    "\n",
    "\"\"\"\n",
    "DON'T MODIFY ANYTHING IN THIS CELL THAT IS BELOW THIS LINE\n",
    "\"\"\"\n",
    "tests.test_con_pool(conv2d_maxpool)"
   ]
  },
  {
   "cell_type": "markdown",
   "metadata": {
    "deletable": true,
    "editable": true
   },
   "source": [
    "### Flatten Layer\n",
    "Implement the `flatten` function to change the dimension of `x_tensor` from a 4-D tensor to a 2-D tensor.  The output should be the shape (*Batch Size*, *Flattened Image Size*). Shortcut option: you can use classes from the [TensorFlow Layers](https://www.tensorflow.org/api_docs/python/tf/layers) or [TensorFlow Layers (contrib)](https://www.tensorflow.org/api_guides/python/contrib.layers) packages for this layer. For more of a challenge, only use other TensorFlow packages."
   ]
  },
  {
   "cell_type": "code",
   "execution_count": 23,
   "metadata": {
    "collapsed": false,
    "deletable": true,
    "editable": true
   },
   "outputs": [
    {
     "name": "stdout",
     "output_type": "stream",
     "text": [
      "Tests Passed\n"
     ]
    }
   ],
   "source": [
    "def flatten(x_tensor):\n",
    "    \"\"\"\n",
    "    Flatten x_tensor to (Batch Size, Flattened Image Size)\n",
    "    : x_tensor: A tensor of size (Batch Size, ...), where ... are the image dimensions.\n",
    "    : return: A tensor of size (Batch Size, Flattened Image Size).\n",
    "    \"\"\"\n",
    "    # TODO: Implement Function\n",
    "    return tf.contrib.layers.flatten(x_tensor)\n",
    "\n",
    "\n",
    "\"\"\"\n",
    "DON'T MODIFY ANYTHING IN THIS CELL THAT IS BELOW THIS LINE\n",
    "\"\"\"\n",
    "tests.test_flatten(flatten)"
   ]
  },
  {
   "cell_type": "markdown",
   "metadata": {
    "deletable": true,
    "editable": true
   },
   "source": [
    "### Fully-Connected Layer\n",
    "Implement the `fully_conn` function to apply a fully connected layer to `x_tensor` with the shape (*Batch Size*, *num_outputs*). Shortcut option: you can use classes from the [TensorFlow Layers](https://www.tensorflow.org/api_docs/python/tf/layers) or [TensorFlow Layers (contrib)](https://www.tensorflow.org/api_guides/python/contrib.layers) packages for this layer. For more of a challenge, only use other TensorFlow packages."
   ]
  },
  {
   "cell_type": "code",
   "execution_count": 114,
   "metadata": {
    "collapsed": false,
    "deletable": true,
    "editable": true
   },
   "outputs": [
    {
     "name": "stdout",
     "output_type": "stream",
     "text": [
      "[-1, 128]\n",
      "Tests Passed\n"
     ]
    }
   ],
   "source": [
    "def fully_conn(x_tensor, num_outputs):\n",
    "    \"\"\"\n",
    "    Apply a fully connected layer to x_tensor using weight and bias\n",
    "    : x_tensor: A 2-D tensor where the first dimension is batch size.\n",
    "    : num_outputs: The number of output that the new tensor should be.\n",
    "    : return: A 2-D tensor where the second dimension is num_outputs.\n",
    "    \"\"\"\n",
    "    # TODO: Implement Function\n",
    "    size = x_tensor.get_shape().as_list()[1]\n",
    "    weight = tf.Variable( tf.truncated_normal([size, num_outputs]) )\n",
    "    bias = tf.Variable( tf.truncated_normal([num_outputs]) )\n",
    "    \n",
    "    # To Learn: why the -1?\n",
    "    print([-1, weight.get_shape().as_list()[0]])\n",
    "    fc = tf.reshape( x_tensor, [-1, weight.get_shape().as_list()[0]] )\n",
    "    fc = tf.add(tf.matmul(fc, weight), bias)\n",
    "    fc = tf.nn.relu(fc)\n",
    "    return fc\n",
    "\n",
    "\n",
    "\"\"\"\n",
    "DON'T MODIFY ANYTHING IN THIS CELL THAT IS BELOW THIS LINE\n",
    "\"\"\"\n",
    "tests.test_fully_conn(fully_conn)"
   ]
  },
  {
   "cell_type": "markdown",
   "metadata": {
    "deletable": true,
    "editable": true
   },
   "source": [
    "### Output Layer\n",
    "Implement the `output` function to apply a fully connected layer to `x_tensor` with the shape (*Batch Size*, *num_outputs*). Shortcut option: you can use classes from the [TensorFlow Layers](https://www.tensorflow.org/api_docs/python/tf/layers) or [TensorFlow Layers (contrib)](https://www.tensorflow.org/api_guides/python/contrib.layers) packages for this layer. For more of a challenge, only use other TensorFlow packages.\n",
    "\n",
    "**Note:** Activation, softmax, or cross entropy should **not** be applied to this."
   ]
  },
  {
   "cell_type": "code",
   "execution_count": 115,
   "metadata": {
    "collapsed": false,
    "deletable": true,
    "editable": true
   },
   "outputs": [
    {
     "name": "stdout",
     "output_type": "stream",
     "text": [
      "Tests Passed\n"
     ]
    }
   ],
   "source": [
    "def output(x_tensor, num_outputs):\n",
    "    \"\"\"\n",
    "    Apply a output layer to x_tensor using weight and bias\n",
    "    : x_tensor: A 2-D tensor where the first dimension is batch size.\n",
    "    : num_outputs: The number of output that the new tensor should be.\n",
    "    : return: A 2-D tensor where the second dimension is num_outputs.\n",
    "    \"\"\"\n",
    "    # TODO: Implement Function\n",
    "    #print(num_outputs)\n",
    "    size = x_tensor.get_shape().as_list()[1]\n",
    "    weight = tf.Variable( tf.truncated_normal([size, num_outputs]) )\n",
    "    bias = tf.Variable( tf.truncated_normal([num_outputs]) )\n",
    "    out = tf.add(tf.matmul(x_tensor, weight), bias)\n",
    "    return out\n",
    "\n",
    "\n",
    "\"\"\"\n",
    "DON'T MODIFY ANYTHING IN THIS CELL THAT IS BELOW THIS LINE\n",
    "\"\"\"\n",
    "tests.test_output(output)"
   ]
  },
  {
   "cell_type": "markdown",
   "metadata": {
    "deletable": true,
    "editable": true
   },
   "source": [
    "### Create Convolutional Model\n",
    "Implement the function `conv_net` to create a convolutional neural network model. The function takes in a batch of images, `x`, and outputs logits.  Use the layers you created above to create this model:\n",
    "\n",
    "* Apply 1, 2, or 3 Convolution and Max Pool layers\n",
    "* Apply a Flatten Layer\n",
    "* Apply 1, 2, or 3 Fully Connected Layers\n",
    "* Apply an Output Layer\n",
    "* Return the output\n",
    "* Apply [TensorFlow's Dropout](https://www.tensorflow.org/api_docs/python/tf/nn/dropout) to one or more layers in the model using `keep_prob`. "
   ]
  },
  {
   "cell_type": "code",
   "execution_count": 165,
   "metadata": {
    "collapsed": false,
    "deletable": true,
    "editable": true
   },
   "outputs": [
    {
     "name": "stdout",
     "output_type": "stream",
     "text": [
      "[-1, 7680]\n",
      "[-1, 2000]\n",
      "[-1, 1000]\n",
      "[-1, 7680]\n",
      "[-1, 2000]\n",
      "[-1, 1000]\n",
      "Neural Network Built!\n"
     ]
    }
   ],
   "source": [
    "def conv_net(x, keep_prob):\n",
    "    \"\"\"\n",
    "    Create a convolutional neural network model\n",
    "    : x: Placeholder tensor that holds image data.\n",
    "    : keep_prob: Placeholder tensor that hold dropout keep probability.\n",
    "    : return: Tensor that represents logits\n",
    "    \"\"\"\n",
    "    conv_num_outputs = 3\n",
    "    conv_ksize = (5,5)\n",
    "    conv_strides = (1,1)\n",
    "    pool_ksize = (2,2)\n",
    "    pool_strides = (2,2)\n",
    "    \n",
    "    num_fc = 2000\n",
    "    num_outputs = 10\n",
    "    \n",
    "    # TODO: Apply 1, 2, or 3 Convolution and Max Pool layers\n",
    "    #    Play around with different number of outputs, kernel size and stride\n",
    "    # Function Definition from Above:\n",
    "    #    conv2d_maxpool(x_tensor, conv_num_outputs, conv_ksize, conv_strides, pool_ksize, pool_strides)\n",
    "    conv = conv2d_maxpool(x, conv_num_outputs*20, conv_ksize, conv_strides, pool_ksize, pool_strides)\n",
    "    conv = conv2d_maxpool(conv, conv_num_outputs*20*2, conv_ksize, conv_strides, pool_ksize, pool_strides)\n",
    "    #conv = conv2d_maxpool(conv, conv_num_outputs*4, conv_ksize, conv_strides, pool_ksize, pool_strides)\n",
    "\n",
    "\n",
    "\n",
    "    # TODO: Apply a Flatten Layer\n",
    "    # Function Definition from Above:\n",
    "    #   flatten(x_tensor)\n",
    "    flat = flatten(conv)\n",
    "\n",
    "    # TODO: Apply 1, 2, or 3 Fully Connected Layers\n",
    "    #    Play around with different number of outputs\n",
    "    # Function Definition from Above:\n",
    "    #   fully_conn(x_tensor, num_outputs)\n",
    "    fc = fully_conn(flat, num_fc)\n",
    "    fc = tf.nn.dropout(fc, keep_prob)\n",
    "    \n",
    "    fc = fully_conn(fc, int(num_fc/2) )\n",
    "    #fc = tf.nn.dropout(fc, keep_prob)\n",
    "    \n",
    "    fc = fully_conn(fc, int(num_fc/4) )\n",
    "    #fc = tf.nn.dropout(fc, keep_prob)\n",
    "\n",
    "    \n",
    "    # TODO: Apply an Output Layer\n",
    "    #    Set this to the number of classes\n",
    "    # Function Definition from Above:\n",
    "    #   output(x_tensor, num_outputs)\n",
    "    cov_net = output(fc, num_outputs)\n",
    "    \n",
    "    # TODO: return output\n",
    "    return cov_net\n",
    "\n",
    "\n",
    "\"\"\"\n",
    "DON'T MODIFY ANYTHING IN THIS CELL THAT IS BELOW THIS LINE\n",
    "\"\"\"\n",
    "\n",
    "##############################\n",
    "## Build the Neural Network ##\n",
    "##############################\n",
    "\n",
    "# Remove previous weights, bias, inputs, etc..\n",
    "tf.reset_default_graph()\n",
    "\n",
    "# Inputs\n",
    "x = neural_net_image_input((32, 32, 3))\n",
    "y = neural_net_label_input(10)\n",
    "keep_prob = neural_net_keep_prob_input()\n",
    "\n",
    "# Model\n",
    "logits = conv_net(x, keep_prob)\n",
    "\n",
    "# Name logits Tensor, so that is can be loaded from disk after training\n",
    "logits = tf.identity(logits, name='logits')\n",
    "\n",
    "# Loss and Optimizer\n",
    "cost = tf.reduce_mean(tf.nn.softmax_cross_entropy_with_logits(logits=logits, labels=y))\n",
    "optimizer = tf.train.AdamOptimizer().minimize(cost)\n",
    "\n",
    "# Accuracy\n",
    "correct_pred = tf.equal(tf.argmax(logits, 1), tf.argmax(y, 1))\n",
    "accuracy = tf.reduce_mean(tf.cast(correct_pred, tf.float32), name='accuracy')\n",
    "\n",
    "tests.test_conv_net(conv_net)"
   ]
  },
  {
   "cell_type": "markdown",
   "metadata": {
    "deletable": true,
    "editable": true
   },
   "source": [
    "## Train the Neural Network\n",
    "### Single Optimization\n",
    "Implement the function `train_neural_network` to do a single optimization.  The optimization should use `optimizer` to optimize in `session` with a `feed_dict` of the following:\n",
    "* `x` for image input\n",
    "* `y` for labels\n",
    "* `keep_prob` for keep probability for dropout\n",
    "\n",
    "This function will be called for each batch, so `tf.global_variables_initializer()` has already been called.\n",
    "\n",
    "Note: Nothing needs to be returned. This function is only optimizing the neural network."
   ]
  },
  {
   "cell_type": "code",
   "execution_count": 27,
   "metadata": {
    "collapsed": false,
    "deletable": true,
    "editable": true
   },
   "outputs": [
    {
     "name": "stdout",
     "output_type": "stream",
     "text": [
      "Tests Passed\n"
     ]
    }
   ],
   "source": [
    "def train_neural_network(session, optimizer, keep_probability, feature_batch, label_batch):\n",
    "    \"\"\"\n",
    "    Optimize the session on a batch of images and labels\n",
    "    : session: Current TensorFlow session\n",
    "    : optimizer: TensorFlow optimizer function\n",
    "    : keep_probability: keep probability\n",
    "    : feature_batch: Batch of Numpy image data\n",
    "    : label_batch: Batch of Numpy label data\n",
    "    \"\"\"\n",
    "    # TODO: Implement Function\n",
    "    feed_dict = {x:feature_batch, y:label_batch, keep_prob:keep_probability}\n",
    "    session.run(optimizer, feed_dict)\n",
    "\n",
    "\n",
    "\"\"\"\n",
    "DON'T MODIFY ANYTHING IN THIS CELL THAT IS BELOW THIS LINE\n",
    "\"\"\"\n",
    "tests.test_train_nn(train_neural_network)"
   ]
  },
  {
   "cell_type": "markdown",
   "metadata": {
    "deletable": true,
    "editable": true
   },
   "source": [
    "### Show Stats\n",
    "Implement the function `print_stats` to print loss and validation accuracy.  Use the global variables `valid_features` and `valid_labels` to calculate validation accuracy.  Use a keep probability of `1.0` to calculate the loss and validation accuracy."
   ]
  },
  {
   "cell_type": "code",
   "execution_count": 28,
   "metadata": {
    "collapsed": false,
    "deletable": true,
    "editable": true
   },
   "outputs": [],
   "source": [
    "def print_stats(session, feature_batch, label_batch, cost, accuracy):\n",
    "    \"\"\"\n",
    "    Print information about loss and validation accuracy\n",
    "    : session: Current TensorFlow session\n",
    "    : feature_batch: Batch of Numpy image data\n",
    "    : label_batch: Batch of Numpy label data\n",
    "    : cost: TensorFlow cost function\n",
    "    : accuracy: TensorFlow accuracy function\n",
    "    \"\"\"\n",
    "    # TODO: Implement Function\n",
    "    loss = session.run(cost, feed_dict={\n",
    "        x: feature_batch,\n",
    "        y: label_batch,\n",
    "        keep_prob: 1.})\n",
    "    valid_acc = sess.run(accuracy, feed_dict={\n",
    "        x: valid_features,\n",
    "        y: valid_labels,\n",
    "        keep_prob: 1.})\n",
    "    print('Loss: {:>10.4f} Validation Accuracy: {:.6f}'.format(\n",
    "                loss,\n",
    "                valid_acc))   "
   ]
  },
  {
   "cell_type": "markdown",
   "metadata": {
    "deletable": true,
    "editable": true
   },
   "source": [
    "### Hyperparameters\n",
    "Tune the following parameters:\n",
    "* Set `epochs` to the number of iterations until the network stops learning or start overfitting\n",
    "* Set `batch_size` to the highest number that your machine has memory for.  Most people set them to common sizes of memory:\n",
    " * 64\n",
    " * 128\n",
    " * 256\n",
    " * ...\n",
    "* Set `keep_probability` to the probability of keeping a node using dropout"
   ]
  },
  {
   "cell_type": "code",
   "execution_count": 167,
   "metadata": {
    "collapsed": true,
    "deletable": true,
    "editable": true
   },
   "outputs": [],
   "source": [
    "# TODO: Tune Parameters\n",
    "epochs = 50\n",
    "batch_size = 2048\n",
    "keep_probability = 0.75"
   ]
  },
  {
   "cell_type": "markdown",
   "metadata": {
    "deletable": true,
    "editable": true
   },
   "source": [
    "### Train on a Single CIFAR-10 Batch\n",
    "Instead of training the neural network on all the CIFAR-10 batches of data, let's use a single batch. This should save time while you iterate on the model to get a better accuracy.  Once the final validation accuracy is 50% or greater, run the model on all the data in the next section."
   ]
  },
  {
   "cell_type": "code",
   "execution_count": null,
   "metadata": {
    "collapsed": false,
    "deletable": true,
    "editable": true
   },
   "outputs": [
    {
     "name": "stdout",
     "output_type": "stream",
     "text": [
      "Checking the Training on a Single Batch...\n",
      "Epoch  1, CIFAR-10 Batch 1:  Loss: 19182102.0000 Validation Accuracy: 0.168000\n",
      "Epoch  2, CIFAR-10 Batch 1:  Loss: 18830054.0000 Validation Accuracy: 0.162600\n",
      "Epoch  3, CIFAR-10 Batch 1:  Loss: 10949273.0000 Validation Accuracy: 0.237000\n",
      "Epoch  4, CIFAR-10 Batch 1:  Loss: 7907900.5000 Validation Accuracy: 0.256800\n",
      "Epoch  5, CIFAR-10 Batch 1:  Loss: 8280442.0000 Validation Accuracy: 0.234200\n",
      "Epoch  6, CIFAR-10 Batch 1:  Loss: 5745114.5000 Validation Accuracy: 0.271600\n",
      "Epoch  7, CIFAR-10 Batch 1:  Loss: 5067999.5000 Validation Accuracy: 0.283600\n",
      "Epoch  8, CIFAR-10 Batch 1:  Loss: 4325562.5000 Validation Accuracy: 0.298000\n",
      "Epoch  9, CIFAR-10 Batch 1:  Loss: 3943731.0000 Validation Accuracy: 0.304000\n",
      "Epoch 10, CIFAR-10 Batch 1:  Loss: 3468475.2500 Validation Accuracy: 0.308000\n",
      "Epoch 11, CIFAR-10 Batch 1:  Loss: 3051701.7500 Validation Accuracy: 0.316600\n",
      "Epoch 12, CIFAR-10 Batch 1:  Loss: 2785171.7500 Validation Accuracy: 0.321800\n",
      "Epoch 13, CIFAR-10 Batch 1:  Loss: 2517577.5000 Validation Accuracy: 0.324200\n",
      "Epoch 14, CIFAR-10 Batch 1:  Loss: 2275326.0000 Validation Accuracy: 0.334000\n",
      "Epoch 15, CIFAR-10 Batch 1:  Loss: 2124833.5000 Validation Accuracy: 0.336200\n",
      "Epoch 16, CIFAR-10 Batch 1:  Loss: 1866939.8750 Validation Accuracy: 0.346200\n",
      "Epoch 17, CIFAR-10 Batch 1:  Loss: 1736137.2500 Validation Accuracy: 0.345800\n",
      "Epoch 18, CIFAR-10 Batch 1:  Loss: 1585045.6250 Validation Accuracy: 0.348000\n",
      "Epoch 19, CIFAR-10 Batch 1:  Loss: 1431916.5000 Validation Accuracy: 0.352400\n",
      "Epoch 20, CIFAR-10 Batch 1:  Loss: 1311663.5000 Validation Accuracy: 0.346400\n",
      "Epoch 21, CIFAR-10 Batch 1:  Loss: 1220939.8750 Validation Accuracy: 0.350800\n",
      "Epoch 22, CIFAR-10 Batch 1:  Loss: 1131748.2500 Validation Accuracy: 0.353800\n",
      "Epoch 23, CIFAR-10 Batch 1:  Loss: 1019628.6250 Validation Accuracy: 0.356600\n",
      "Epoch 24, CIFAR-10 Batch 1:  Loss: 947093.1250 Validation Accuracy: 0.360200\n",
      "Epoch 25, CIFAR-10 Batch 1:  Loss: 885882.7500 Validation Accuracy: 0.363800\n",
      "Epoch 26, CIFAR-10 Batch 1:  Loss: 834626.5000 Validation Accuracy: 0.363600\n",
      "Epoch 27, CIFAR-10 Batch 1:  Loss: 791829.0000 Validation Accuracy: 0.367200\n"
     ]
    }
   ],
   "source": [
    "\"\"\"\n",
    "DON'T MODIFY ANYTHING IN THIS CELL\n",
    "\"\"\"\n",
    "print('Checking the Training on a Single Batch...')\n",
    "with tf.Session() as sess:\n",
    "    # Initializing the variables\n",
    "    sess.run(tf.global_variables_initializer())\n",
    "    \n",
    "    # Training cycle\n",
    "    for epoch in range(epochs):\n",
    "        batch_i = 1\n",
    "        for batch_features, batch_labels in helper.load_preprocess_training_batch(batch_i, batch_size):\n",
    "            train_neural_network(sess, optimizer, keep_probability, batch_features, batch_labels)\n",
    "        print('Epoch {:>2}, CIFAR-10 Batch {}:  '.format(epoch + 1, batch_i), end='')\n",
    "        print_stats(sess, batch_features, batch_labels, cost, accuracy)"
   ]
  },
  {
   "cell_type": "markdown",
   "metadata": {},
   "source": [
    "Strategy:\n",
    "covnet\n",
    "max pool\n",
    "covnet\n",
    "maxpool\n",
    "fully connected\n",
    "dropout\n",
    "fully connect\n",
    "dropout\n",
    "output\n",
    "\n",
    "What learned:\n",
    "test with 20 epochs to try things\n",
    "For a while vlaidation accuracy wnet up then down\n",
    "larger strides seem to affect accuracy. 3,3 bad strides (1,1)seems best\n",
    "smaller filters better, but not too small"
   ]
  },
  {
   "cell_type": "markdown",
   "metadata": {
    "deletable": true,
    "editable": true
   },
   "source": [
    "### Fully Train the Model\n",
    "Now that you got a good accuracy with a single CIFAR-10 batch, try it with all five batches."
   ]
  },
  {
   "cell_type": "code",
   "execution_count": 146,
   "metadata": {
    "collapsed": false,
    "deletable": true,
    "editable": true
   },
   "outputs": [
    {
     "name": "stdout",
     "output_type": "stream",
     "text": [
      "Training...\n",
      "Epoch  1, CIFAR-10 Batch 1:  Loss: 7083591.5000 Validation Accuracy: 0.135400\n",
      "Epoch  1, CIFAR-10 Batch 2:  Loss: 3593336.2500 Validation Accuracy: 0.214000\n",
      "Epoch  1, CIFAR-10 Batch 3:  Loss: 3212049.7500 Validation Accuracy: 0.231000\n",
      "Epoch  1, CIFAR-10 Batch 4:  Loss: 3153022.5000 Validation Accuracy: 0.248400\n",
      "Epoch  1, CIFAR-10 Batch 5:  Loss: 2413578.5000 Validation Accuracy: 0.284800\n",
      "Epoch  2, CIFAR-10 Batch 1:  Loss: 2272871.2500 Validation Accuracy: 0.297400\n",
      "Epoch  2, CIFAR-10 Batch 2:  Loss: 1922168.2500 Validation Accuracy: 0.303200\n",
      "Epoch  2, CIFAR-10 Batch 3:  Loss: 1650003.5000 Validation Accuracy: 0.311600\n",
      "Epoch  2, CIFAR-10 Batch 4:  Loss: 1601294.0000 Validation Accuracy: 0.320400\n",
      "Epoch  2, CIFAR-10 Batch 5:  Loss: 1499040.3750 Validation Accuracy: 0.330400\n",
      "Epoch  3, CIFAR-10 Batch 1:  Loss: 1460269.2500 Validation Accuracy: 0.336600\n",
      "Epoch  3, CIFAR-10 Batch 2:  Loss: 1282660.0000 Validation Accuracy: 0.344600\n",
      "Epoch  3, CIFAR-10 Batch 3:  Loss: 1179347.7500 Validation Accuracy: 0.349000\n",
      "Epoch  3, CIFAR-10 Batch 4:  Loss: 1180055.3750 Validation Accuracy: 0.352600\n",
      "Epoch  3, CIFAR-10 Batch 5:  Loss: 1152644.6250 Validation Accuracy: 0.359200\n",
      "Epoch  4, CIFAR-10 Batch 1:  Loss: 1077934.0000 Validation Accuracy: 0.361600\n",
      "Epoch  4, CIFAR-10 Batch 2:  Loss: 1024241.3750 Validation Accuracy: 0.371600\n",
      "Epoch  4, CIFAR-10 Batch 3:  Loss: 941285.1250 Validation Accuracy: 0.374400\n",
      "Epoch  4, CIFAR-10 Batch 4:  Loss: 928045.5625 Validation Accuracy: 0.375600\n",
      "Epoch  4, CIFAR-10 Batch 5:  Loss: 914616.5000 Validation Accuracy: 0.375800\n",
      "Epoch  5, CIFAR-10 Batch 1:  Loss: 873174.0000 Validation Accuracy: 0.379600\n",
      "Epoch  5, CIFAR-10 Batch 2:  Loss: 839164.5000 Validation Accuracy: 0.384200\n",
      "Epoch  5, CIFAR-10 Batch 3:  Loss: 797238.2500 Validation Accuracy: 0.381200\n",
      "Epoch  5, CIFAR-10 Batch 4:  Loss: 783820.5625 Validation Accuracy: 0.386200\n",
      "Epoch  5, CIFAR-10 Batch 5:  Loss: 766782.1250 Validation Accuracy: 0.388200\n",
      "Epoch  6, CIFAR-10 Batch 1:  Loss: 733616.2500 Validation Accuracy: 0.383000\n",
      "Epoch  6, CIFAR-10 Batch 2:  Loss: 708540.9375 Validation Accuracy: 0.397400\n",
      "Epoch  6, CIFAR-10 Batch 3:  Loss: 672507.6875 Validation Accuracy: 0.396000\n",
      "Epoch  6, CIFAR-10 Batch 4:  Loss: 670266.8750 Validation Accuracy: 0.393000\n",
      "Epoch  6, CIFAR-10 Batch 5:  Loss: 664775.0000 Validation Accuracy: 0.395800\n",
      "Epoch  7, CIFAR-10 Batch 1:  Loss: 612585.8750 Validation Accuracy: 0.394200\n",
      "Epoch  7, CIFAR-10 Batch 2:  Loss: 597582.4375 Validation Accuracy: 0.399200\n",
      "Epoch  7, CIFAR-10 Batch 3:  Loss: 575693.8750 Validation Accuracy: 0.395400\n",
      "Epoch  7, CIFAR-10 Batch 4:  Loss: 567573.4375 Validation Accuracy: 0.396000\n",
      "Epoch  7, CIFAR-10 Batch 5:  Loss: 539574.0000 Validation Accuracy: 0.402400\n",
      "Epoch  8, CIFAR-10 Batch 1:  Loss: 537348.5625 Validation Accuracy: 0.397800\n",
      "Epoch  8, CIFAR-10 Batch 2:  Loss: 527126.5625 Validation Accuracy: 0.400800\n",
      "Epoch  8, CIFAR-10 Batch 3:  Loss: 490862.5625 Validation Accuracy: 0.404200\n",
      "Epoch  8, CIFAR-10 Batch 4:  Loss: 487955.4062 Validation Accuracy: 0.401800\n",
      "Epoch  8, CIFAR-10 Batch 5:  Loss: 473983.5938 Validation Accuracy: 0.405000\n",
      "Epoch  9, CIFAR-10 Batch 1:  Loss: 469180.5000 Validation Accuracy: 0.403400\n",
      "Epoch  9, CIFAR-10 Batch 2:  Loss: 462740.4375 Validation Accuracy: 0.404800\n",
      "Epoch  9, CIFAR-10 Batch 3:  Loss: 416597.9688 Validation Accuracy: 0.408000\n",
      "Epoch  9, CIFAR-10 Batch 4:  Loss: 419116.5625 Validation Accuracy: 0.405000\n",
      "Epoch  9, CIFAR-10 Batch 5:  Loss: 424154.2188 Validation Accuracy: 0.406800\n",
      "Epoch 10, CIFAR-10 Batch 1:  Loss: 405544.7500 Validation Accuracy: 0.404000\n",
      "Epoch 10, CIFAR-10 Batch 2:  Loss: 407800.9375 Validation Accuracy: 0.404200\n",
      "Epoch 10, CIFAR-10 Batch 3:  Loss: 371686.3438 Validation Accuracy: 0.408600\n",
      "Epoch 10, CIFAR-10 Batch 4:  Loss: 366726.5625 Validation Accuracy: 0.406600\n",
      "Epoch 10, CIFAR-10 Batch 5:  Loss: 374195.4375 Validation Accuracy: 0.406800\n",
      "Epoch 11, CIFAR-10 Batch 1:  Loss: 357652.1875 Validation Accuracy: 0.407600\n",
      "Epoch 11, CIFAR-10 Batch 2:  Loss: 370108.1250 Validation Accuracy: 0.410200\n",
      "Epoch 11, CIFAR-10 Batch 3:  Loss: 329136.0938 Validation Accuracy: 0.414400\n",
      "Epoch 11, CIFAR-10 Batch 4:  Loss: 327878.9062 Validation Accuracy: 0.410600\n",
      "Epoch 11, CIFAR-10 Batch 5:  Loss: 335441.6875 Validation Accuracy: 0.406800\n",
      "Epoch 12, CIFAR-10 Batch 1:  Loss: 310739.9062 Validation Accuracy: 0.410200\n",
      "Epoch 12, CIFAR-10 Batch 2:  Loss: 339163.2500 Validation Accuracy: 0.409600\n",
      "Epoch 12, CIFAR-10 Batch 3:  Loss: 300095.2188 Validation Accuracy: 0.410400\n",
      "Epoch 12, CIFAR-10 Batch 4:  Loss: 291402.3125 Validation Accuracy: 0.410400\n",
      "Epoch 12, CIFAR-10 Batch 5:  Loss: 307455.8125 Validation Accuracy: 0.406800\n",
      "Epoch 13, CIFAR-10 Batch 1:  Loss: 282690.9688 Validation Accuracy: 0.406800\n",
      "Epoch 13, CIFAR-10 Batch 2:  Loss: 291489.6250 Validation Accuracy: 0.414800\n",
      "Epoch 13, CIFAR-10 Batch 3:  Loss: 263446.7500 Validation Accuracy: 0.408800\n",
      "Epoch 13, CIFAR-10 Batch 4:  Loss: 265478.9375 Validation Accuracy: 0.409600\n",
      "Epoch 13, CIFAR-10 Batch 5:  Loss: 270470.6875 Validation Accuracy: 0.411200\n",
      "Epoch 14, CIFAR-10 Batch 1:  Loss: 259666.2031 Validation Accuracy: 0.406800\n",
      "Epoch 14, CIFAR-10 Batch 2:  Loss: 278702.6250 Validation Accuracy: 0.411400\n",
      "Epoch 14, CIFAR-10 Batch 3:  Loss: 229047.8750 Validation Accuracy: 0.415000\n",
      "Epoch 14, CIFAR-10 Batch 4:  Loss: 230381.4375 Validation Accuracy: 0.409400\n",
      "Epoch 14, CIFAR-10 Batch 5:  Loss: 253300.2031 Validation Accuracy: 0.410800\n",
      "Epoch 15, CIFAR-10 Batch 1:  Loss: 227572.4375 Validation Accuracy: 0.410800\n",
      "Epoch 15, CIFAR-10 Batch 2:  Loss: 248821.7812 Validation Accuracy: 0.411400\n",
      "Epoch 15, CIFAR-10 Batch 3:  Loss: 204594.3750 Validation Accuracy: 0.411000\n",
      "Epoch 15, CIFAR-10 Batch 4:  Loss: 207573.6406 Validation Accuracy: 0.411200\n",
      "Epoch 15, CIFAR-10 Batch 5:  Loss: 232125.2812 Validation Accuracy: 0.409800\n",
      "Epoch 16, CIFAR-10 Batch 1:  Loss: 206606.5156 Validation Accuracy: 0.407200\n",
      "Epoch 16, CIFAR-10 Batch 2:  Loss: 223119.4688 Validation Accuracy: 0.410800\n",
      "Epoch 16, CIFAR-10 Batch 3:  Loss: 190004.4062 Validation Accuracy: 0.410800\n",
      "Epoch 16, CIFAR-10 Batch 4:  Loss: 189867.4688 Validation Accuracy: 0.405600\n",
      "Epoch 16, CIFAR-10 Batch 5:  Loss: 203267.3281 Validation Accuracy: 0.405800\n",
      "Epoch 17, CIFAR-10 Batch 1:  Loss: 187435.9531 Validation Accuracy: 0.404000\n",
      "Epoch 17, CIFAR-10 Batch 2:  Loss: 213554.7656 Validation Accuracy: 0.399600\n",
      "Epoch 17, CIFAR-10 Batch 3:  Loss: 169696.3750 Validation Accuracy: 0.404800\n",
      "Epoch 17, CIFAR-10 Batch 4:  Loss: 175685.4375 Validation Accuracy: 0.403000\n",
      "Epoch 17, CIFAR-10 Batch 5:  Loss: 183738.1719 Validation Accuracy: 0.405000\n",
      "Epoch 18, CIFAR-10 Batch 1:  Loss: 175767.0312 Validation Accuracy: 0.403400\n",
      "Epoch 18, CIFAR-10 Batch 2:  Loss: 190604.8438 Validation Accuracy: 0.401600\n",
      "Epoch 18, CIFAR-10 Batch 3:  Loss: 154353.9531 Validation Accuracy: 0.403200\n",
      "Epoch 18, CIFAR-10 Batch 4:  Loss: 161218.2188 Validation Accuracy: 0.399600\n",
      "Epoch 18, CIFAR-10 Batch 5:  Loss: 170439.6406 Validation Accuracy: 0.402200\n",
      "Epoch 19, CIFAR-10 Batch 1:  Loss: 155636.4375 Validation Accuracy: 0.398800\n",
      "Epoch 19, CIFAR-10 Batch 2:  Loss: 175278.5938 Validation Accuracy: 0.396800\n",
      "Epoch 19, CIFAR-10 Batch 3:  Loss: 143971.0781 Validation Accuracy: 0.400600\n",
      "Epoch 19, CIFAR-10 Batch 4:  Loss: 141614.1250 Validation Accuracy: 0.400800\n",
      "Epoch 19, CIFAR-10 Batch 5:  Loss: 153240.7344 Validation Accuracy: 0.393600\n",
      "Epoch 20, CIFAR-10 Batch 1:  Loss: 143548.4688 Validation Accuracy: 0.393400\n",
      "Epoch 20, CIFAR-10 Batch 2:  Loss: 156625.0312 Validation Accuracy: 0.396000\n",
      "Epoch 20, CIFAR-10 Batch 3:  Loss: 132829.6875 Validation Accuracy: 0.396000\n",
      "Epoch 20, CIFAR-10 Batch 4:  Loss: 128906.2891 Validation Accuracy: 0.390200\n",
      "Epoch 20, CIFAR-10 Batch 5:  Loss: 138201.0312 Validation Accuracy: 0.387400\n",
      "Epoch 21, CIFAR-10 Batch 1:  Loss: 130874.3516 Validation Accuracy: 0.385800\n",
      "Epoch 21, CIFAR-10 Batch 2:  Loss: 147706.4219 Validation Accuracy: 0.386000\n",
      "Epoch 21, CIFAR-10 Batch 3:  Loss: 117112.4922 Validation Accuracy: 0.389200\n",
      "Epoch 21, CIFAR-10 Batch 4:  Loss: 115013.2031 Validation Accuracy: 0.385400\n",
      "Epoch 21, CIFAR-10 Batch 5:  Loss: 124464.8438 Validation Accuracy: 0.382600\n",
      "Epoch 22, CIFAR-10 Batch 1:  Loss: 121376.6562 Validation Accuracy: 0.378800\n",
      "Epoch 22, CIFAR-10 Batch 2:  Loss: 137754.6406 Validation Accuracy: 0.382400\n",
      "Epoch 22, CIFAR-10 Batch 3:  Loss: 112367.6484 Validation Accuracy: 0.380800\n",
      "Epoch 22, CIFAR-10 Batch 4:  Loss: 109459.2969 Validation Accuracy: 0.379800\n",
      "Epoch 22, CIFAR-10 Batch 5:  Loss: 115110.7109 Validation Accuracy: 0.374800\n",
      "Epoch 23, CIFAR-10 Batch 1:  Loss: 104659.0781 Validation Accuracy: 0.373400\n",
      "Epoch 23, CIFAR-10 Batch 2:  Loss: 121269.0547 Validation Accuracy: 0.371400\n",
      "Epoch 23, CIFAR-10 Batch 3:  Loss: 103808.5547 Validation Accuracy: 0.367600\n",
      "Epoch 23, CIFAR-10 Batch 4:  Loss: 96479.7500 Validation Accuracy: 0.369400\n",
      "Epoch 23, CIFAR-10 Batch 5:  Loss: 100907.8906 Validation Accuracy: 0.367800\n",
      "Epoch 24, CIFAR-10 Batch 1:  Loss: 94080.9219 Validation Accuracy: 0.363000\n",
      "Epoch 24, CIFAR-10 Batch 2:  Loss: 105491.7500 Validation Accuracy: 0.360400\n",
      "Epoch 24, CIFAR-10 Batch 3:  Loss: 92428.7422 Validation Accuracy: 0.360600\n",
      "Epoch 24, CIFAR-10 Batch 4:  Loss: 90272.4375 Validation Accuracy: 0.355400\n",
      "Epoch 24, CIFAR-10 Batch 5:  Loss: 88477.4531 Validation Accuracy: 0.350800\n",
      "Epoch 25, CIFAR-10 Batch 1:  Loss: 77770.9219 Validation Accuracy: 0.350000\n",
      "Epoch 25, CIFAR-10 Batch 2:  Loss: 89367.0078 Validation Accuracy: 0.350800\n",
      "Epoch 25, CIFAR-10 Batch 3:  Loss: 80712.6719 Validation Accuracy: 0.345000\n",
      "Epoch 25, CIFAR-10 Batch 4:  Loss: 75634.1406 Validation Accuracy: 0.345400\n",
      "Epoch 25, CIFAR-10 Batch 5:  Loss: 72562.2188 Validation Accuracy: 0.340000\n",
      "Epoch 26, CIFAR-10 Batch 1:  Loss: 62492.2227 Validation Accuracy: 0.331200\n",
      "Epoch 26, CIFAR-10 Batch 2:  Loss: 72074.7734 Validation Accuracy: 0.320800\n",
      "Epoch 26, CIFAR-10 Batch 3:  Loss: 66874.0312 Validation Accuracy: 0.317200\n",
      "Epoch 26, CIFAR-10 Batch 4:  Loss: 58962.7617 Validation Accuracy: 0.307800\n",
      "Epoch 26, CIFAR-10 Batch 5:  Loss: 56981.4609 Validation Accuracy: 0.294800\n",
      "Epoch 27, CIFAR-10 Batch 1:  Loss: 48751.9023 Validation Accuracy: 0.283400\n",
      "Epoch 27, CIFAR-10 Batch 2:  Loss: 50909.8984 Validation Accuracy: 0.274000\n",
      "Epoch 27, CIFAR-10 Batch 3:  Loss: 50140.8984 Validation Accuracy: 0.265800\n",
      "Epoch 27, CIFAR-10 Batch 4:  Loss: 39349.3594 Validation Accuracy: 0.261000\n",
      "Epoch 27, CIFAR-10 Batch 5:  Loss: 34541.4570 Validation Accuracy: 0.249000\n",
      "Epoch 28, CIFAR-10 Batch 1:  Loss: 28464.6172 Validation Accuracy: 0.238800\n",
      "Epoch 28, CIFAR-10 Batch 2:  Loss: 25737.5371 Validation Accuracy: 0.216200\n",
      "Epoch 28, CIFAR-10 Batch 3:  Loss: 24957.7051 Validation Accuracy: 0.204400\n",
      "Epoch 28, CIFAR-10 Batch 4:  Loss: 16031.0000 Validation Accuracy: 0.189200\n",
      "Epoch 28, CIFAR-10 Batch 5:  Loss: 12363.9980 Validation Accuracy: 0.172200\n",
      "Epoch 29, CIFAR-10 Batch 1:  Loss:  9592.6465 Validation Accuracy: 0.158200\n",
      "Epoch 29, CIFAR-10 Batch 2:  Loss:  8039.9336 Validation Accuracy: 0.142400\n",
      "Epoch 29, CIFAR-10 Batch 3:  Loss:  6296.6636 Validation Accuracy: 0.129000\n",
      "Epoch 29, CIFAR-10 Batch 4:  Loss:  3981.4370 Validation Accuracy: 0.117600\n",
      "Epoch 29, CIFAR-10 Batch 5:  Loss:  2051.6328 Validation Accuracy: 0.111400\n",
      "Epoch 30, CIFAR-10 Batch 1:  Loss:  1973.0559 Validation Accuracy: 0.105600\n",
      "Epoch 30, CIFAR-10 Batch 2:  Loss:  1520.0728 Validation Accuracy: 0.104800\n",
      "Epoch 30, CIFAR-10 Batch 3:  Loss:   691.2913 Validation Accuracy: 0.104800\n",
      "Epoch 30, CIFAR-10 Batch 4:  Loss:   485.6660 Validation Accuracy: 0.104600\n",
      "Epoch 30, CIFAR-10 Batch 5:  Loss:   254.7357 Validation Accuracy: 0.103400\n",
      "Epoch 31, CIFAR-10 Batch 1:  Loss:   355.3087 Validation Accuracy: 0.102600\n",
      "Epoch 31, CIFAR-10 Batch 2:  Loss:   467.8721 Validation Accuracy: 0.103200\n",
      "Epoch 31, CIFAR-10 Batch 3:  Loss:   105.9030 Validation Accuracy: 0.102600\n",
      "Epoch 31, CIFAR-10 Batch 4:  Loss:    87.6596 Validation Accuracy: 0.102800\n",
      "Epoch 31, CIFAR-10 Batch 5:  Loss:   109.0539 Validation Accuracy: 0.102400\n",
      "Epoch 32, CIFAR-10 Batch 1:  Loss:   210.9214 Validation Accuracy: 0.102200\n",
      "Epoch 32, CIFAR-10 Batch 2:  Loss:   201.8355 Validation Accuracy: 0.102200\n",
      "Epoch 32, CIFAR-10 Batch 3:  Loss:    28.6900 Validation Accuracy: 0.101800\n",
      "Epoch 32, CIFAR-10 Batch 4:  Loss:    56.6466 Validation Accuracy: 0.101800\n",
      "Epoch 32, CIFAR-10 Batch 5:  Loss:    52.5126 Validation Accuracy: 0.101800\n",
      "Epoch 33, CIFAR-10 Batch 1:  Loss:    49.4783 Validation Accuracy: 0.101800\n",
      "Epoch 33, CIFAR-10 Batch 2:  Loss:    42.5225 Validation Accuracy: 0.102000\n",
      "Epoch 33, CIFAR-10 Batch 3:  Loss:     2.4122 Validation Accuracy: 0.102000\n",
      "Epoch 33, CIFAR-10 Batch 4:  Loss:    16.4491 Validation Accuracy: 0.102000\n",
      "Epoch 33, CIFAR-10 Batch 5:  Loss:    15.7248 Validation Accuracy: 0.101800\n",
      "Epoch 34, CIFAR-10 Batch 1:  Loss:     2.4108 Validation Accuracy: 0.101800\n",
      "Epoch 34, CIFAR-10 Batch 2:  Loss:     2.4237 Validation Accuracy: 0.101800\n",
      "Epoch 34, CIFAR-10 Batch 3:  Loss:     2.3958 Validation Accuracy: 0.101800\n",
      "Epoch 34, CIFAR-10 Batch 4:  Loss:     8.7802 Validation Accuracy: 0.101800\n",
      "Epoch 34, CIFAR-10 Batch 5:  Loss:    13.4358 Validation Accuracy: 0.101800\n",
      "Epoch 35, CIFAR-10 Batch 1:  Loss:     2.3947 Validation Accuracy: 0.101800\n",
      "Epoch 35, CIFAR-10 Batch 2:  Loss:     2.4075 Validation Accuracy: 0.101800\n",
      "Epoch 35, CIFAR-10 Batch 3:  Loss:     2.3823 Validation Accuracy: 0.101800\n",
      "Epoch 35, CIFAR-10 Batch 4:  Loss:     2.3992 Validation Accuracy: 0.101800\n",
      "Epoch 35, CIFAR-10 Batch 5:  Loss:    11.4987 Validation Accuracy: 0.101800\n",
      "Epoch 36, CIFAR-10 Batch 1:  Loss:     2.3852 Validation Accuracy: 0.102000\n",
      "Epoch 36, CIFAR-10 Batch 2:  Loss:     2.3938 Validation Accuracy: 0.102000\n",
      "Epoch 36, CIFAR-10 Batch 3:  Loss:     2.3712 Validation Accuracy: 0.102000\n",
      "Epoch 36, CIFAR-10 Batch 4:  Loss:     2.3864 Validation Accuracy: 0.101800\n",
      "Epoch 36, CIFAR-10 Batch 5:  Loss:     9.8537 Validation Accuracy: 0.101800\n",
      "Epoch 37, CIFAR-10 Batch 1:  Loss:     2.3739 Validation Accuracy: 0.101800\n",
      "Epoch 37, CIFAR-10 Batch 2:  Loss:     2.3823 Validation Accuracy: 0.101800\n",
      "Epoch 37, CIFAR-10 Batch 3:  Loss:     2.3618 Validation Accuracy: 0.101800\n",
      "Epoch 37, CIFAR-10 Batch 4:  Loss:     2.3755 Validation Accuracy: 0.101800\n",
      "Epoch 37, CIFAR-10 Batch 5:  Loss:     8.6021 Validation Accuracy: 0.101800\n",
      "Epoch 38, CIFAR-10 Batch 1:  Loss:     2.3644 Validation Accuracy: 0.101800\n",
      "Epoch 38, CIFAR-10 Batch 2:  Loss:     2.3726 Validation Accuracy: 0.101800\n",
      "Epoch 38, CIFAR-10 Batch 3:  Loss:     2.3540 Validation Accuracy: 0.101800\n",
      "Epoch 38, CIFAR-10 Batch 4:  Loss:     2.3663 Validation Accuracy: 0.101800\n",
      "Epoch 38, CIFAR-10 Batch 5:  Loss:     7.6318 Validation Accuracy: 0.101800\n",
      "Epoch 39, CIFAR-10 Batch 1:  Loss:     2.3563 Validation Accuracy: 0.101800\n",
      "Epoch 39, CIFAR-10 Batch 2:  Loss:     2.3641 Validation Accuracy: 0.101800\n",
      "Epoch 39, CIFAR-10 Batch 3:  Loss:     2.3473 Validation Accuracy: 0.101800\n",
      "Epoch 39, CIFAR-10 Batch 4:  Loss:     2.3584 Validation Accuracy: 0.101800\n",
      "Epoch 39, CIFAR-10 Batch 5:  Loss:     6.6404 Validation Accuracy: 0.101800\n",
      "Epoch 40, CIFAR-10 Batch 1:  Loss:     2.3494 Validation Accuracy: 0.101800\n",
      "Epoch 40, CIFAR-10 Batch 2:  Loss:     2.3568 Validation Accuracy: 0.101600\n",
      "Epoch 40, CIFAR-10 Batch 3:  Loss:     2.3416 Validation Accuracy: 0.101600\n",
      "Epoch 40, CIFAR-10 Batch 4:  Loss:     2.3515 Validation Accuracy: 0.101600\n",
      "Epoch 40, CIFAR-10 Batch 5:  Loss:     6.1435 Validation Accuracy: 0.101600\n",
      "Epoch 41, CIFAR-10 Batch 1:  Loss:     2.3434 Validation Accuracy: 0.101600\n",
      "Epoch 41, CIFAR-10 Batch 2:  Loss:     2.3505 Validation Accuracy: 0.101600\n",
      "Epoch 41, CIFAR-10 Batch 3:  Loss:     2.3366 Validation Accuracy: 0.101600\n",
      "Epoch 41, CIFAR-10 Batch 4:  Loss:     2.3454 Validation Accuracy: 0.101600\n",
      "Epoch 41, CIFAR-10 Batch 5:  Loss:     5.7342 Validation Accuracy: 0.101600\n",
      "Epoch 42, CIFAR-10 Batch 1:  Loss:     2.3382 Validation Accuracy: 0.101600\n",
      "Epoch 42, CIFAR-10 Batch 2:  Loss:     2.3449 Validation Accuracy: 0.101600\n",
      "Epoch 42, CIFAR-10 Batch 3:  Loss:     2.3324 Validation Accuracy: 0.101600\n",
      "Epoch 42, CIFAR-10 Batch 4:  Loss:     2.3402 Validation Accuracy: 0.101600\n",
      "Epoch 42, CIFAR-10 Batch 5:  Loss:     5.1682 Validation Accuracy: 0.101800\n",
      "Epoch 43, CIFAR-10 Batch 1:  Loss:     2.3338 Validation Accuracy: 0.101800\n",
      "Epoch 43, CIFAR-10 Batch 2:  Loss:     2.3401 Validation Accuracy: 0.101800\n",
      "Epoch 43, CIFAR-10 Batch 3:  Loss:     2.3287 Validation Accuracy: 0.101800\n",
      "Epoch 43, CIFAR-10 Batch 4:  Loss:     2.3356 Validation Accuracy: 0.101800\n",
      "Epoch 43, CIFAR-10 Batch 5:  Loss:     4.6988 Validation Accuracy: 0.101800\n",
      "Epoch 44, CIFAR-10 Batch 1:  Loss:     2.3299 Validation Accuracy: 0.101800\n",
      "Epoch 44, CIFAR-10 Batch 2:  Loss:     2.3358 Validation Accuracy: 0.101800\n",
      "Epoch 44, CIFAR-10 Batch 3:  Loss:     2.3254 Validation Accuracy: 0.101800\n",
      "Epoch 44, CIFAR-10 Batch 4:  Loss:     2.3315 Validation Accuracy: 0.101800\n",
      "Epoch 44, CIFAR-10 Batch 5:  Loss:     4.2466 Validation Accuracy: 0.101800\n",
      "Epoch 45, CIFAR-10 Batch 1:  Loss:     2.3265 Validation Accuracy: 0.101800\n",
      "Epoch 45, CIFAR-10 Batch 2:  Loss:     2.3320 Validation Accuracy: 0.101800\n",
      "Epoch 45, CIFAR-10 Batch 3:  Loss:     2.3226 Validation Accuracy: 0.101800\n",
      "Epoch 45, CIFAR-10 Batch 4:  Loss:     3.1553 Validation Accuracy: 0.101800\n",
      "Epoch 45, CIFAR-10 Batch 5:  Loss:     3.7846 Validation Accuracy: 0.101800\n",
      "Epoch 46, CIFAR-10 Batch 1:  Loss:     2.3235 Validation Accuracy: 0.101800\n",
      "Epoch 46, CIFAR-10 Batch 2:  Loss:     2.3287 Validation Accuracy: 0.101800\n",
      "Epoch 46, CIFAR-10 Batch 3:  Loss:     2.3201 Validation Accuracy: 0.101800\n",
      "Epoch 46, CIFAR-10 Batch 4:  Loss:     2.8343 Validation Accuracy: 0.101800\n",
      "Epoch 46, CIFAR-10 Batch 5:  Loss:     3.2352 Validation Accuracy: 0.101800\n",
      "Epoch 47, CIFAR-10 Batch 1:  Loss:     2.3209 Validation Accuracy: 0.101800\n",
      "Epoch 47, CIFAR-10 Batch 2:  Loss:     2.3257 Validation Accuracy: 0.101800\n",
      "Epoch 47, CIFAR-10 Batch 3:  Loss:     2.3180 Validation Accuracy: 0.101800\n",
      "Epoch 47, CIFAR-10 Batch 4:  Loss:     2.5593 Validation Accuracy: 0.101800\n",
      "Epoch 47, CIFAR-10 Batch 5:  Loss:     2.8319 Validation Accuracy: 0.101800\n",
      "Epoch 48, CIFAR-10 Batch 1:  Loss:     2.3187 Validation Accuracy: 0.101800\n",
      "Epoch 48, CIFAR-10 Batch 2:  Loss:     2.3231 Validation Accuracy: 0.101800\n",
      "Epoch 48, CIFAR-10 Batch 3:  Loss:     2.3161 Validation Accuracy: 0.101800\n",
      "Epoch 48, CIFAR-10 Batch 4:  Loss:     2.3223 Validation Accuracy: 0.101800\n",
      "Epoch 48, CIFAR-10 Batch 5:  Loss:     2.3229 Validation Accuracy: 0.101800\n",
      "Epoch 49, CIFAR-10 Batch 1:  Loss:     2.3167 Validation Accuracy: 0.101800\n",
      "Epoch 49, CIFAR-10 Batch 2:  Loss:     2.3208 Validation Accuracy: 0.101800\n",
      "Epoch 49, CIFAR-10 Batch 3:  Loss:     2.3144 Validation Accuracy: 0.101800\n",
      "Epoch 49, CIFAR-10 Batch 4:  Loss:     2.3201 Validation Accuracy: 0.101800\n",
      "Epoch 49, CIFAR-10 Batch 5:  Loss:     2.3205 Validation Accuracy: 0.101800\n",
      "Epoch 50, CIFAR-10 Batch 1:  Loss:     2.3150 Validation Accuracy: 0.101800\n",
      "Epoch 50, CIFAR-10 Batch 2:  Loss:     2.3187 Validation Accuracy: 0.101800\n",
      "Epoch 50, CIFAR-10 Batch 3:  Loss:     2.3130 Validation Accuracy: 0.101800\n",
      "Epoch 50, CIFAR-10 Batch 4:  Loss:     2.3181 Validation Accuracy: 0.101800\n",
      "Epoch 50, CIFAR-10 Batch 5:  Loss:     2.3184 Validation Accuracy: 0.101800\n"
     ]
    }
   ],
   "source": [
    "\"\"\"\n",
    "DON'T MODIFY ANYTHING IN THIS CELL\n",
    "\"\"\"\n",
    "save_model_path = './image_classification'\n",
    "\n",
    "print('Training...')\n",
    "with tf.Session() as sess:\n",
    "    # Initializing the variables\n",
    "    sess.run(tf.global_variables_initializer())\n",
    "    \n",
    "    # Training cycle\n",
    "    for epoch in range(epochs):\n",
    "        # Loop over all batches\n",
    "        n_batches = 5\n",
    "        for batch_i in range(1, n_batches + 1):\n",
    "            for batch_features, batch_labels in helper.load_preprocess_training_batch(batch_i, batch_size):\n",
    "                train_neural_network(sess, optimizer, keep_probability, batch_features, batch_labels)\n",
    "            print('Epoch {:>2}, CIFAR-10 Batch {}:  '.format(epoch + 1, batch_i), end='')\n",
    "            print_stats(sess, batch_features, batch_labels, cost, accuracy)\n",
    "            \n",
    "    # Save Model\n",
    "    saver = tf.train.Saver()\n",
    "    save_path = saver.save(sess, save_model_path)"
   ]
  },
  {
   "cell_type": "markdown",
   "metadata": {
    "deletable": true,
    "editable": true
   },
   "source": [
    "# Checkpoint\n",
    "The model has been saved to disk.\n",
    "## Test Model\n",
    "Test your model against the test dataset.  This will be your final accuracy. You should have an accuracy greater than 50%. If you don't, keep tweaking the model architecture and parameters."
   ]
  },
  {
   "cell_type": "code",
   "execution_count": null,
   "metadata": {
    "collapsed": false,
    "deletable": true,
    "editable": true
   },
   "outputs": [],
   "source": [
    "\"\"\"\n",
    "DON'T MODIFY ANYTHING IN THIS CELL\n",
    "\"\"\"\n",
    "%matplotlib inline\n",
    "%config InlineBackend.figure_format = 'retina'\n",
    "\n",
    "import tensorflow as tf\n",
    "import pickle\n",
    "import helper\n",
    "import random\n",
    "\n",
    "# Set batch size if not already set\n",
    "try:\n",
    "    if batch_size:\n",
    "        pass\n",
    "except NameError:\n",
    "    batch_size = 64\n",
    "\n",
    "save_model_path = './image_classification'\n",
    "n_samples = 4\n",
    "top_n_predictions = 3\n",
    "\n",
    "def test_model():\n",
    "    \"\"\"\n",
    "    Test the saved model against the test dataset\n",
    "    \"\"\"\n",
    "\n",
    "    test_features, test_labels = pickle.load(open('preprocess_training.p', mode='rb'))\n",
    "    loaded_graph = tf.Graph()\n",
    "\n",
    "    with tf.Session(graph=loaded_graph) as sess:\n",
    "        # Load model\n",
    "        loader = tf.train.import_meta_graph(save_model_path + '.meta')\n",
    "        loader.restore(sess, save_model_path)\n",
    "\n",
    "        # Get Tensors from loaded model\n",
    "        loaded_x = loaded_graph.get_tensor_by_name('x:0')\n",
    "        loaded_y = loaded_graph.get_tensor_by_name('y:0')\n",
    "        loaded_keep_prob = loaded_graph.get_tensor_by_name('keep_prob:0')\n",
    "        loaded_logits = loaded_graph.get_tensor_by_name('logits:0')\n",
    "        loaded_acc = loaded_graph.get_tensor_by_name('accuracy:0')\n",
    "        \n",
    "        # Get accuracy in batches for memory limitations\n",
    "        test_batch_acc_total = 0\n",
    "        test_batch_count = 0\n",
    "        \n",
    "        for train_feature_batch, train_label_batch in helper.batch_features_labels(test_features, test_labels, batch_size):\n",
    "            test_batch_acc_total += sess.run(\n",
    "                loaded_acc,\n",
    "                feed_dict={loaded_x: train_feature_batch, loaded_y: train_label_batch, loaded_keep_prob: 1.0})\n",
    "            test_batch_count += 1\n",
    "\n",
    "        print('Testing Accuracy: {}\\n'.format(test_batch_acc_total/test_batch_count))\n",
    "\n",
    "        # Print Random Samples\n",
    "        random_test_features, random_test_labels = tuple(zip(*random.sample(list(zip(test_features, test_labels)), n_samples)))\n",
    "        random_test_predictions = sess.run(\n",
    "            tf.nn.top_k(tf.nn.softmax(loaded_logits), top_n_predictions),\n",
    "            feed_dict={loaded_x: random_test_features, loaded_y: random_test_labels, loaded_keep_prob: 1.0})\n",
    "        helper.display_image_predictions(random_test_features, random_test_labels, random_test_predictions)\n",
    "\n",
    "\n",
    "test_model()"
   ]
  },
  {
   "cell_type": "markdown",
   "metadata": {
    "deletable": true,
    "editable": true
   },
   "source": [
    "## Why 50-70% Accuracy?\n",
    "You might be wondering why you can't get an accuracy any higher. First things first, 50% isn't bad for a simple CNN.  Pure guessing would get you 10% accuracy. However, you might notice people are getting scores [well above 70%](http://rodrigob.github.io/are_we_there_yet/build/classification_datasets_results.html#43494641522d3130).  That's because we haven't taught you all there is to know about neural networks. We still need to cover a few more techniques.\n",
    "## Submitting This Project\n",
    "When submitting this project, make sure to run all the cells before saving the notebook.  Save the notebook file as \"dlnd_image_classification.ipynb\" and save it as a HTML file under \"File\" -> \"Download as\".  Include the \"helper.py\" and \"problem_unittests.py\" files in your submission."
   ]
  }
 ],
 "metadata": {
  "kernelspec": {
   "display_name": "Python 3",
   "language": "python",
   "name": "python3"
  },
  "language_info": {
   "codemirror_mode": {
    "name": "ipython",
    "version": 3
   },
   "file_extension": ".py",
   "mimetype": "text/x-python",
   "name": "python",
   "nbconvert_exporter": "python",
   "pygments_lexer": "ipython3",
   "version": "3.5.2"
  },
  "widgets": {
   "state": {},
   "version": "1.1.2"
  }
 },
 "nbformat": 4,
 "nbformat_minor": 0
}
